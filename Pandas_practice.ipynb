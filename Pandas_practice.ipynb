{
 "cells": [
  {
   "cell_type": "code",
   "execution_count": 1,
   "id": "a865dcc0",
   "metadata": {},
   "outputs": [],
   "source": [
    "import numpy as np\n",
    "import pandas as pd"
   ]
  },
  {
   "cell_type": "code",
   "execution_count": 3,
   "id": "9b8baa34",
   "metadata": {},
   "outputs": [],
   "source": [
    "dict={\n",
    "    \"subjects\":[\"python\",\"cpp\",\"java\",\"javascript\",\"html\"],\n",
    "    \"rating\":[5,2,1,4,2],\n",
    "}"
   ]
  },
  {
   "cell_type": "code",
   "execution_count": 4,
   "id": "409acffd",
   "metadata": {},
   "outputs": [],
   "source": [
    "df=pd.DataFrame(dict)"
   ]
  },
  {
   "cell_type": "code",
   "execution_count": 5,
   "id": "ab2743c3",
   "metadata": {},
   "outputs": [
    {
     "data": {
      "text/html": [
       "<div>\n",
       "<style scoped>\n",
       "    .dataframe tbody tr th:only-of-type {\n",
       "        vertical-align: middle;\n",
       "    }\n",
       "\n",
       "    .dataframe tbody tr th {\n",
       "        vertical-align: top;\n",
       "    }\n",
       "\n",
       "    .dataframe thead th {\n",
       "        text-align: right;\n",
       "    }\n",
       "</style>\n",
       "<table border=\"1\" class=\"dataframe\">\n",
       "  <thead>\n",
       "    <tr style=\"text-align: right;\">\n",
       "      <th></th>\n",
       "      <th>subjects</th>\n",
       "      <th>rating</th>\n",
       "    </tr>\n",
       "  </thead>\n",
       "  <tbody>\n",
       "    <tr>\n",
       "      <th>0</th>\n",
       "      <td>python</td>\n",
       "      <td>5</td>\n",
       "    </tr>\n",
       "    <tr>\n",
       "      <th>1</th>\n",
       "      <td>cpp</td>\n",
       "      <td>2</td>\n",
       "    </tr>\n",
       "    <tr>\n",
       "      <th>2</th>\n",
       "      <td>java</td>\n",
       "      <td>1</td>\n",
       "    </tr>\n",
       "    <tr>\n",
       "      <th>3</th>\n",
       "      <td>javascript</td>\n",
       "      <td>4</td>\n",
       "    </tr>\n",
       "    <tr>\n",
       "      <th>4</th>\n",
       "      <td>html</td>\n",
       "      <td>2</td>\n",
       "    </tr>\n",
       "  </tbody>\n",
       "</table>\n",
       "</div>"
      ],
      "text/plain": [
       "     subjects  rating\n",
       "0      python       5\n",
       "1         cpp       2\n",
       "2        java       1\n",
       "3  javascript       4\n",
       "4        html       2"
      ]
     },
     "execution_count": 5,
     "metadata": {},
     "output_type": "execute_result"
    }
   ],
   "source": [
    "df"
   ]
  },
  {
   "cell_type": "code",
   "execution_count": 7,
   "id": "3c55fcf6",
   "metadata": {},
   "outputs": [],
   "source": [
    "df.to_csv(\"subjects.csv\",index=False)"
   ]
  },
  {
   "cell_type": "code",
   "execution_count": 10,
   "id": "668cf974",
   "metadata": {},
   "outputs": [
    {
     "data": {
      "text/html": [
       "<div>\n",
       "<style scoped>\n",
       "    .dataframe tbody tr th:only-of-type {\n",
       "        vertical-align: middle;\n",
       "    }\n",
       "\n",
       "    .dataframe tbody tr th {\n",
       "        vertical-align: top;\n",
       "    }\n",
       "\n",
       "    .dataframe thead th {\n",
       "        text-align: right;\n",
       "    }\n",
       "</style>\n",
       "<table border=\"1\" class=\"dataframe\">\n",
       "  <thead>\n",
       "    <tr style=\"text-align: right;\">\n",
       "      <th></th>\n",
       "      <th>subjects</th>\n",
       "      <th>rating</th>\n",
       "    </tr>\n",
       "  </thead>\n",
       "  <tbody>\n",
       "    <tr>\n",
       "      <th>0</th>\n",
       "      <td>python</td>\n",
       "      <td>5</td>\n",
       "    </tr>\n",
       "    <tr>\n",
       "      <th>1</th>\n",
       "      <td>cpp</td>\n",
       "      <td>2</td>\n",
       "    </tr>\n",
       "  </tbody>\n",
       "</table>\n",
       "</div>"
      ],
      "text/plain": [
       "  subjects  rating\n",
       "0   python       5\n",
       "1      cpp       2"
      ]
     },
     "execution_count": 10,
     "metadata": {},
     "output_type": "execute_result"
    }
   ],
   "source": [
    "df.head(2)"
   ]
  },
  {
   "cell_type": "code",
   "execution_count": 11,
   "id": "04381cff",
   "metadata": {},
   "outputs": [
    {
     "data": {
      "text/html": [
       "<div>\n",
       "<style scoped>\n",
       "    .dataframe tbody tr th:only-of-type {\n",
       "        vertical-align: middle;\n",
       "    }\n",
       "\n",
       "    .dataframe tbody tr th {\n",
       "        vertical-align: top;\n",
       "    }\n",
       "\n",
       "    .dataframe thead th {\n",
       "        text-align: right;\n",
       "    }\n",
       "</style>\n",
       "<table border=\"1\" class=\"dataframe\">\n",
       "  <thead>\n",
       "    <tr style=\"text-align: right;\">\n",
       "      <th></th>\n",
       "      <th>rating</th>\n",
       "    </tr>\n",
       "  </thead>\n",
       "  <tbody>\n",
       "    <tr>\n",
       "      <th>count</th>\n",
       "      <td>5.000000</td>\n",
       "    </tr>\n",
       "    <tr>\n",
       "      <th>mean</th>\n",
       "      <td>2.800000</td>\n",
       "    </tr>\n",
       "    <tr>\n",
       "      <th>std</th>\n",
       "      <td>1.643168</td>\n",
       "    </tr>\n",
       "    <tr>\n",
       "      <th>min</th>\n",
       "      <td>1.000000</td>\n",
       "    </tr>\n",
       "    <tr>\n",
       "      <th>25%</th>\n",
       "      <td>2.000000</td>\n",
       "    </tr>\n",
       "    <tr>\n",
       "      <th>50%</th>\n",
       "      <td>2.000000</td>\n",
       "    </tr>\n",
       "    <tr>\n",
       "      <th>75%</th>\n",
       "      <td>4.000000</td>\n",
       "    </tr>\n",
       "    <tr>\n",
       "      <th>max</th>\n",
       "      <td>5.000000</td>\n",
       "    </tr>\n",
       "  </tbody>\n",
       "</table>\n",
       "</div>"
      ],
      "text/plain": [
       "         rating\n",
       "count  5.000000\n",
       "mean   2.800000\n",
       "std    1.643168\n",
       "min    1.000000\n",
       "25%    2.000000\n",
       "50%    2.000000\n",
       "75%    4.000000\n",
       "max    5.000000"
      ]
     },
     "execution_count": 11,
     "metadata": {},
     "output_type": "execute_result"
    }
   ],
   "source": [
    "df.describe()"
   ]
  },
  {
   "cell_type": "code",
   "execution_count": 12,
   "id": "168d6962",
   "metadata": {},
   "outputs": [],
   "source": [
    "mydata=pd.read_csv(\"Bollywood/bollywood.csv\")"
   ]
  },
  {
   "cell_type": "code",
   "execution_count": 13,
   "id": "e473e646",
   "metadata": {},
   "outputs": [
    {
     "data": {
      "text/html": [
       "<div>\n",
       "<style scoped>\n",
       "    .dataframe tbody tr th:only-of-type {\n",
       "        vertical-align: middle;\n",
       "    }\n",
       "\n",
       "    .dataframe tbody tr th {\n",
       "        vertical-align: top;\n",
       "    }\n",
       "\n",
       "    .dataframe thead th {\n",
       "        text-align: right;\n",
       "    }\n",
       "</style>\n",
       "<table border=\"1\" class=\"dataframe\">\n",
       "  <thead>\n",
       "    <tr style=\"text-align: right;\">\n",
       "      <th></th>\n",
       "      <th>Movie</th>\n",
       "      <th>Lead</th>\n",
       "      <th>Rdate</th>\n",
       "      <th>Ocollection</th>\n",
       "      <th>Wcollection</th>\n",
       "      <th>Fwcollection</th>\n",
       "      <th>Tcollection</th>\n",
       "      <th>Verdict</th>\n",
       "    </tr>\n",
       "  </thead>\n",
       "  <tbody>\n",
       "    <tr>\n",
       "      <th>0</th>\n",
       "      <td>Dangal</td>\n",
       "      <td>Aamir</td>\n",
       "      <td>23-Dec-16</td>\n",
       "      <td>29.78</td>\n",
       "      <td>106.95</td>\n",
       "      <td>197.53</td>\n",
       "      <td>386.68</td>\n",
       "      <td>Super Hit</td>\n",
       "    </tr>\n",
       "    <tr>\n",
       "      <th>1</th>\n",
       "      <td>Wajah Tum Ho</td>\n",
       "      <td>Sharman</td>\n",
       "      <td>16-Dec-16</td>\n",
       "      <td>2.86</td>\n",
       "      <td>7.79</td>\n",
       "      <td>10.29</td>\n",
       "      <td>10.29</td>\n",
       "      <td>Flop</td>\n",
       "    </tr>\n",
       "    <tr>\n",
       "      <th>2</th>\n",
       "      <td>Befikre</td>\n",
       "      <td>Ranveer</td>\n",
       "      <td>09-Dec-16</td>\n",
       "      <td>10.36</td>\n",
       "      <td>34.36</td>\n",
       "      <td>48.75</td>\n",
       "      <td>59.30</td>\n",
       "      <td>Average</td>\n",
       "    </tr>\n",
       "    <tr>\n",
       "      <th>3</th>\n",
       "      <td>Kahaani 2</td>\n",
       "      <td>Vidya</td>\n",
       "      <td>02-Dec-16</td>\n",
       "      <td>4.25</td>\n",
       "      <td>16.97</td>\n",
       "      <td>24.26</td>\n",
       "      <td>30.56</td>\n",
       "      <td>Average</td>\n",
       "    </tr>\n",
       "    <tr>\n",
       "      <th>4</th>\n",
       "      <td>Dear Zindagi</td>\n",
       "      <td>Shahrukh</td>\n",
       "      <td>25-Nov-16</td>\n",
       "      <td>8.75</td>\n",
       "      <td>32.50</td>\n",
       "      <td>47.00</td>\n",
       "      <td>64.44</td>\n",
       "      <td>Hit</td>\n",
       "    </tr>\n",
       "    <tr>\n",
       "      <th>...</th>\n",
       "      <td>...</td>\n",
       "      <td>...</td>\n",
       "      <td>...</td>\n",
       "      <td>...</td>\n",
       "      <td>...</td>\n",
       "      <td>...</td>\n",
       "      <td>...</td>\n",
       "      <td>...</td>\n",
       "    </tr>\n",
       "    <tr>\n",
       "      <th>56</th>\n",
       "      <td>Saala Khadoos</td>\n",
       "      <td>Madhavan</td>\n",
       "      <td>29-Jan-16</td>\n",
       "      <td>2.19</td>\n",
       "      <td>9.93</td>\n",
       "      <td>12.63</td>\n",
       "      <td>14.79</td>\n",
       "      <td>Flop</td>\n",
       "    </tr>\n",
       "    <tr>\n",
       "      <th>57</th>\n",
       "      <td>Mastizaade</td>\n",
       "      <td>Sunny</td>\n",
       "      <td>29-Jan-16</td>\n",
       "      <td>5.59</td>\n",
       "      <td>18.45</td>\n",
       "      <td>28.74</td>\n",
       "      <td>36.44</td>\n",
       "      <td>Average</td>\n",
       "    </tr>\n",
       "    <tr>\n",
       "      <th>58</th>\n",
       "      <td>Airlift</td>\n",
       "      <td>Akshay</td>\n",
       "      <td>22-Jan-16</td>\n",
       "      <td>12.35</td>\n",
       "      <td>44.30</td>\n",
       "      <td>83.50</td>\n",
       "      <td>128.10</td>\n",
       "      <td>Super Hit</td>\n",
       "    </tr>\n",
       "    <tr>\n",
       "      <th>59</th>\n",
       "      <td>Kyaa Kool Hain Hum 3</td>\n",
       "      <td>Tusshar</td>\n",
       "      <td>22-Jan-16</td>\n",
       "      <td>8.15</td>\n",
       "      <td>20.15</td>\n",
       "      <td>29.65</td>\n",
       "      <td>30.25</td>\n",
       "      <td>Average</td>\n",
       "    </tr>\n",
       "    <tr>\n",
       "      <th>60</th>\n",
       "      <td>Wazir</td>\n",
       "      <td>Amitabh</td>\n",
       "      <td>08-Jan-16</td>\n",
       "      <td>5.61</td>\n",
       "      <td>21.01</td>\n",
       "      <td>30.05</td>\n",
       "      <td>41.02</td>\n",
       "      <td>Average</td>\n",
       "    </tr>\n",
       "  </tbody>\n",
       "</table>\n",
       "<p>61 rows × 8 columns</p>\n",
       "</div>"
      ],
      "text/plain": [
       "                   Movie      Lead      Rdate  Ocollection  Wcollection  \\\n",
       "0                 Dangal     Aamir  23-Dec-16        29.78       106.95   \n",
       "1           Wajah Tum Ho   Sharman  16-Dec-16         2.86         7.79   \n",
       "2                Befikre   Ranveer  09-Dec-16        10.36        34.36   \n",
       "3              Kahaani 2     Vidya  02-Dec-16         4.25        16.97   \n",
       "4           Dear Zindagi  Shahrukh  25-Nov-16         8.75        32.50   \n",
       "..                   ...       ...        ...          ...          ...   \n",
       "56         Saala Khadoos  Madhavan  29-Jan-16         2.19         9.93   \n",
       "57            Mastizaade     Sunny  29-Jan-16         5.59        18.45   \n",
       "58               Airlift    Akshay  22-Jan-16        12.35        44.30   \n",
       "59  Kyaa Kool Hain Hum 3   Tusshar  22-Jan-16         8.15        20.15   \n",
       "60                 Wazir   Amitabh  08-Jan-16         5.61        21.01   \n",
       "\n",
       "    Fwcollection  Tcollection    Verdict  \n",
       "0         197.53       386.68  Super Hit  \n",
       "1          10.29        10.29       Flop  \n",
       "2          48.75        59.30    Average  \n",
       "3          24.26        30.56    Average  \n",
       "4          47.00        64.44        Hit  \n",
       "..           ...          ...        ...  \n",
       "56         12.63        14.79       Flop  \n",
       "57         28.74        36.44    Average  \n",
       "58         83.50       128.10  Super Hit  \n",
       "59         29.65        30.25    Average  \n",
       "60         30.05        41.02    Average  \n",
       "\n",
       "[61 rows x 8 columns]"
      ]
     },
     "execution_count": 13,
     "metadata": {},
     "output_type": "execute_result"
    }
   ],
   "source": [
    "mydata"
   ]
  },
  {
   "cell_type": "code",
   "execution_count": 18,
   "id": "5b18bd4a",
   "metadata": {},
   "outputs": [
    {
     "data": {
      "text/plain": [
       "'Kahaani'"
      ]
     },
     "execution_count": 18,
     "metadata": {},
     "output_type": "execute_result"
    }
   ],
   "source": [
    "mydata[\"Movie\"][3]"
   ]
  },
  {
   "cell_type": "code",
   "execution_count": 19,
   "id": "67d9cc80",
   "metadata": {},
   "outputs": [
    {
     "name": "stdout",
     "output_type": "stream",
     "text": [
      "0     0.943171\n",
      "1     0.404936\n",
      "2     0.438457\n",
      "3     0.944700\n",
      "4     0.497650\n",
      "5     0.847027\n",
      "6     0.502844\n",
      "7     0.174349\n",
      "8     0.894338\n",
      "9     0.749178\n",
      "10    0.069352\n",
      "11    0.412582\n",
      "12    0.897988\n",
      "13    0.250312\n",
      "14    0.084861\n",
      "15    0.779735\n",
      "16    0.258795\n",
      "17    0.666170\n",
      "18    0.999443\n",
      "19    0.713524\n",
      "20    0.389508\n",
      "21    0.746720\n",
      "22    0.181401\n",
      "23    0.488201\n",
      "24    0.083420\n",
      "25    0.578596\n",
      "26    0.909122\n",
      "27    0.762563\n",
      "28    0.215051\n",
      "29    0.510800\n",
      "30    0.257085\n",
      "31    0.523942\n",
      "32    0.377331\n",
      "33    0.671801\n",
      "34    0.032990\n",
      "35    0.242491\n",
      "36    0.159262\n",
      "37    0.966830\n",
      "38    0.419321\n",
      "39    0.982066\n",
      "dtype: float64\n"
     ]
    }
   ],
   "source": [
    "seri=pd.Series(np.random.rand(40))\n",
    "print(seri)"
   ]
  },
  {
   "cell_type": "code",
   "execution_count": 20,
   "id": "8903c9a9",
   "metadata": {},
   "outputs": [
    {
     "name": "stdout",
     "output_type": "stream",
     "text": [
      "[[0.44955359 0.90805609 0.03036176 0.81896356 0.10771694]\n",
      " [0.72292505 0.72932343 0.71603822 0.10369195 0.33127242]\n",
      " [0.6216966  0.54887756 0.69494126 0.71051994 0.87298771]\n",
      " ...\n",
      " [0.83742975 0.46648627 0.75067357 0.06124186 0.46842668]\n",
      " [0.29386576 0.55040355 0.73823061 0.73851966 0.12349846]\n",
      " [0.88245688 0.61627256 0.46985532 0.60422958 0.3668554 ]]\n"
     ]
    }
   ],
   "source": [
    "newdf=np.random.rand(3000,5)\n",
    "print(newdf)"
   ]
  },
  {
   "cell_type": "code",
   "execution_count": 21,
   "id": "e3115cc8",
   "metadata": {},
   "outputs": [
    {
     "name": "stdout",
     "output_type": "stream",
     "text": [
      "             0         1         2         3         4\n",
      "0     0.449554  0.908056  0.030362  0.818964  0.107717\n",
      "1     0.722925  0.729323  0.716038  0.103692  0.331272\n",
      "2     0.621697  0.548878  0.694941  0.710520  0.872988\n",
      "3     0.505539  0.703869  0.466557  0.217443  0.368813\n",
      "4     0.119801  0.901359  0.898079  0.528000  0.040531\n",
      "...        ...       ...       ...       ...       ...\n",
      "2995  0.582159  0.935148  0.168189  0.013772  0.787753\n",
      "2996  0.054559  0.530590  0.309385  0.344923  0.020687\n",
      "2997  0.837430  0.466486  0.750674  0.061242  0.468427\n",
      "2998  0.293866  0.550404  0.738231  0.738520  0.123498\n",
      "2999  0.882457  0.616273  0.469855  0.604230  0.366855\n",
      "\n",
      "[3000 rows x 5 columns]\n"
     ]
    }
   ],
   "source": [
    "newdf=pd.DataFrame(newdf)\n",
    "print(newdf)"
   ]
  },
  {
   "cell_type": "code",
   "execution_count": 25,
   "id": "876e4d5c",
   "metadata": {},
   "outputs": [
    {
     "data": {
      "text/plain": [
       "pandas.core.frame.DataFrame"
      ]
     },
     "execution_count": 25,
     "metadata": {},
     "output_type": "execute_result"
    }
   ],
   "source": [
    "type(newdf)"
   ]
  },
  {
   "cell_type": "code",
   "execution_count": 26,
   "id": "07f63291",
   "metadata": {},
   "outputs": [
    {
     "name": "stdout",
     "output_type": "stream",
     "text": [
      "                 0            1            2            3            4\n",
      "count  3000.000000  3000.000000  3000.000000  3000.000000  3000.000000\n",
      "mean      0.495110     0.497873     0.502721     0.494363     0.493310\n",
      "std       0.287222     0.288967     0.287712     0.287298     0.285967\n",
      "min       0.000072     0.000031     0.000081     0.000718     0.000011\n",
      "25%       0.244645     0.251745     0.251665     0.242898     0.239730\n",
      "50%       0.490638     0.491838     0.506705     0.494235     0.502687\n",
      "75%       0.740730     0.743999     0.743368     0.746508     0.732994\n",
      "max       0.999421     0.999917     0.999900     0.999930     0.999648\n"
     ]
    }
   ],
   "source": [
    "print(newdf.describe())"
   ]
  },
  {
   "cell_type": "code",
   "execution_count": 29,
   "id": "1b42e901",
   "metadata": {},
   "outputs": [
    {
     "data": {
      "text/html": [
       "<div>\n",
       "<style scoped>\n",
       "    .dataframe tbody tr th:only-of-type {\n",
       "        vertical-align: middle;\n",
       "    }\n",
       "\n",
       "    .dataframe tbody tr th {\n",
       "        vertical-align: top;\n",
       "    }\n",
       "\n",
       "    .dataframe thead th {\n",
       "        text-align: right;\n",
       "    }\n",
       "</style>\n",
       "<table border=\"1\" class=\"dataframe\">\n",
       "  <thead>\n",
       "    <tr style=\"text-align: right;\">\n",
       "      <th></th>\n",
       "      <th>0</th>\n",
       "      <th>1</th>\n",
       "      <th>2</th>\n",
       "      <th>3</th>\n",
       "      <th>4</th>\n",
       "    </tr>\n",
       "  </thead>\n",
       "  <tbody>\n",
       "    <tr>\n",
       "      <th>0</th>\n",
       "      <td>0.449554</td>\n",
       "      <td>0.908056</td>\n",
       "      <td>0.030362</td>\n",
       "      <td>0.818964</td>\n",
       "      <td>0.107717</td>\n",
       "    </tr>\n",
       "    <tr>\n",
       "      <th>1</th>\n",
       "      <td>0.722925</td>\n",
       "      <td>0.729323</td>\n",
       "      <td>0.716038</td>\n",
       "      <td>0.103692</td>\n",
       "      <td>0.331272</td>\n",
       "    </tr>\n",
       "    <tr>\n",
       "      <th>2</th>\n",
       "      <td>0.621697</td>\n",
       "      <td>0.548878</td>\n",
       "      <td>0.694941</td>\n",
       "      <td>0.710520</td>\n",
       "      <td>0.872988</td>\n",
       "    </tr>\n",
       "    <tr>\n",
       "      <th>3</th>\n",
       "      <td>0.505539</td>\n",
       "      <td>0.703869</td>\n",
       "      <td>0.466557</td>\n",
       "      <td>0.217443</td>\n",
       "      <td>0.368813</td>\n",
       "    </tr>\n",
       "    <tr>\n",
       "      <th>4</th>\n",
       "      <td>0.119801</td>\n",
       "      <td>0.901359</td>\n",
       "      <td>0.898079</td>\n",
       "      <td>0.528000</td>\n",
       "      <td>0.040531</td>\n",
       "    </tr>\n",
       "  </tbody>\n",
       "</table>\n",
       "</div>"
      ],
      "text/plain": [
       "          0         1         2         3         4\n",
       "0  0.449554  0.908056  0.030362  0.818964  0.107717\n",
       "1  0.722925  0.729323  0.716038  0.103692  0.331272\n",
       "2  0.621697  0.548878  0.694941  0.710520  0.872988\n",
       "3  0.505539  0.703869  0.466557  0.217443  0.368813\n",
       "4  0.119801  0.901359  0.898079  0.528000  0.040531"
      ]
     },
     "execution_count": 29,
     "metadata": {},
     "output_type": "execute_result"
    }
   ],
   "source": [
    "newdf.head(5)"
   ]
  },
  {
   "cell_type": "code",
   "execution_count": 30,
   "id": "7bd136f5",
   "metadata": {},
   "outputs": [],
   "source": [
    "newdf[0][2]=\"gourav\""
   ]
  },
  {
   "cell_type": "code",
   "execution_count": 32,
   "id": "63ae2a78",
   "metadata": {},
   "outputs": [
    {
     "data": {
      "text/html": [
       "<div>\n",
       "<style scoped>\n",
       "    .dataframe tbody tr th:only-of-type {\n",
       "        vertical-align: middle;\n",
       "    }\n",
       "\n",
       "    .dataframe tbody tr th {\n",
       "        vertical-align: top;\n",
       "    }\n",
       "\n",
       "    .dataframe thead th {\n",
       "        text-align: right;\n",
       "    }\n",
       "</style>\n",
       "<table border=\"1\" class=\"dataframe\">\n",
       "  <thead>\n",
       "    <tr style=\"text-align: right;\">\n",
       "      <th></th>\n",
       "      <th>0</th>\n",
       "      <th>1</th>\n",
       "      <th>2</th>\n",
       "      <th>3</th>\n",
       "      <th>4</th>\n",
       "    </tr>\n",
       "  </thead>\n",
       "  <tbody>\n",
       "    <tr>\n",
       "      <th>0</th>\n",
       "      <td>0.449554</td>\n",
       "      <td>0.908056</td>\n",
       "      <td>0.030362</td>\n",
       "      <td>0.818964</td>\n",
       "      <td>0.107717</td>\n",
       "    </tr>\n",
       "    <tr>\n",
       "      <th>1</th>\n",
       "      <td>0.722925</td>\n",
       "      <td>0.729323</td>\n",
       "      <td>0.716038</td>\n",
       "      <td>0.103692</td>\n",
       "      <td>0.331272</td>\n",
       "    </tr>\n",
       "    <tr>\n",
       "      <th>2</th>\n",
       "      <td>gourav</td>\n",
       "      <td>0.548878</td>\n",
       "      <td>0.694941</td>\n",
       "      <td>0.710520</td>\n",
       "      <td>0.872988</td>\n",
       "    </tr>\n",
       "    <tr>\n",
       "      <th>3</th>\n",
       "      <td>0.505539</td>\n",
       "      <td>0.703869</td>\n",
       "      <td>0.466557</td>\n",
       "      <td>0.217443</td>\n",
       "      <td>0.368813</td>\n",
       "    </tr>\n",
       "    <tr>\n",
       "      <th>4</th>\n",
       "      <td>0.119801</td>\n",
       "      <td>0.901359</td>\n",
       "      <td>0.898079</td>\n",
       "      <td>0.528000</td>\n",
       "      <td>0.040531</td>\n",
       "    </tr>\n",
       "  </tbody>\n",
       "</table>\n",
       "</div>"
      ],
      "text/plain": [
       "          0         1         2         3         4\n",
       "0  0.449554  0.908056  0.030362  0.818964  0.107717\n",
       "1  0.722925  0.729323  0.716038  0.103692  0.331272\n",
       "2    gourav  0.548878  0.694941  0.710520  0.872988\n",
       "3  0.505539  0.703869  0.466557  0.217443  0.368813\n",
       "4  0.119801  0.901359  0.898079  0.528000  0.040531"
      ]
     },
     "execution_count": 32,
     "metadata": {},
     "output_type": "execute_result"
    }
   ],
   "source": [
    "newdf.head(5)"
   ]
  },
  {
   "cell_type": "code",
   "execution_count": 35,
   "id": "9539e226",
   "metadata": {},
   "outputs": [
    {
     "name": "stdout",
     "output_type": "stream",
     "text": [
      "<class 'pandas.core.frame.DataFrame'>\n"
     ]
    }
   ],
   "source": [
    "print(type(newdf))"
   ]
  },
  {
   "cell_type": "code",
   "execution_count": 36,
   "id": "fce97635",
   "metadata": {},
   "outputs": [
    {
     "data": {
      "text/plain": [
       "RangeIndex(start=0, stop=3000, step=1)"
      ]
     },
     "execution_count": 36,
     "metadata": {},
     "output_type": "execute_result"
    }
   ],
   "source": [
    "newdf.index"
   ]
  },
  {
   "cell_type": "code",
   "execution_count": 38,
   "id": "b4eecf6f",
   "metadata": {},
   "outputs": [
    {
     "data": {
      "text/plain": [
       "RangeIndex(start=0, stop=5, step=1)"
      ]
     },
     "execution_count": 38,
     "metadata": {},
     "output_type": "execute_result"
    }
   ],
   "source": [
    "newdf.columns"
   ]
  },
  {
   "cell_type": "code",
   "execution_count": 41,
   "id": "141f79e0",
   "metadata": {},
   "outputs": [
    {
     "data": {
      "text/html": [
       "<div>\n",
       "<style scoped>\n",
       "    .dataframe tbody tr th:only-of-type {\n",
       "        vertical-align: middle;\n",
       "    }\n",
       "\n",
       "    .dataframe tbody tr th {\n",
       "        vertical-align: top;\n",
       "    }\n",
       "\n",
       "    .dataframe thead th {\n",
       "        text-align: right;\n",
       "    }\n",
       "</style>\n",
       "<table border=\"1\" class=\"dataframe\">\n",
       "  <thead>\n",
       "    <tr style=\"text-align: right;\">\n",
       "      <th></th>\n",
       "      <th>4</th>\n",
       "      <th>3</th>\n",
       "      <th>2</th>\n",
       "      <th>1</th>\n",
       "      <th>0</th>\n",
       "    </tr>\n",
       "  </thead>\n",
       "  <tbody>\n",
       "    <tr>\n",
       "      <th>0</th>\n",
       "      <td>0.107717</td>\n",
       "      <td>0.818964</td>\n",
       "      <td>0.030362</td>\n",
       "      <td>0.908056</td>\n",
       "      <td>0.449554</td>\n",
       "    </tr>\n",
       "    <tr>\n",
       "      <th>1</th>\n",
       "      <td>0.331272</td>\n",
       "      <td>0.103692</td>\n",
       "      <td>0.716038</td>\n",
       "      <td>0.729323</td>\n",
       "      <td>0.722925</td>\n",
       "    </tr>\n",
       "    <tr>\n",
       "      <th>2</th>\n",
       "      <td>0.872988</td>\n",
       "      <td>0.710520</td>\n",
       "      <td>0.694941</td>\n",
       "      <td>0.548878</td>\n",
       "      <td>gourav</td>\n",
       "    </tr>\n",
       "    <tr>\n",
       "      <th>3</th>\n",
       "      <td>0.368813</td>\n",
       "      <td>0.217443</td>\n",
       "      <td>0.466557</td>\n",
       "      <td>0.703869</td>\n",
       "      <td>0.505539</td>\n",
       "    </tr>\n",
       "    <tr>\n",
       "      <th>4</th>\n",
       "      <td>0.040531</td>\n",
       "      <td>0.528000</td>\n",
       "      <td>0.898079</td>\n",
       "      <td>0.901359</td>\n",
       "      <td>0.119801</td>\n",
       "    </tr>\n",
       "    <tr>\n",
       "      <th>...</th>\n",
       "      <td>...</td>\n",
       "      <td>...</td>\n",
       "      <td>...</td>\n",
       "      <td>...</td>\n",
       "      <td>...</td>\n",
       "    </tr>\n",
       "    <tr>\n",
       "      <th>2995</th>\n",
       "      <td>0.787753</td>\n",
       "      <td>0.013772</td>\n",
       "      <td>0.168189</td>\n",
       "      <td>0.935148</td>\n",
       "      <td>0.582159</td>\n",
       "    </tr>\n",
       "    <tr>\n",
       "      <th>2996</th>\n",
       "      <td>0.020687</td>\n",
       "      <td>0.344923</td>\n",
       "      <td>0.309385</td>\n",
       "      <td>0.530590</td>\n",
       "      <td>0.054559</td>\n",
       "    </tr>\n",
       "    <tr>\n",
       "      <th>2997</th>\n",
       "      <td>0.468427</td>\n",
       "      <td>0.061242</td>\n",
       "      <td>0.750674</td>\n",
       "      <td>0.466486</td>\n",
       "      <td>0.83743</td>\n",
       "    </tr>\n",
       "    <tr>\n",
       "      <th>2998</th>\n",
       "      <td>0.123498</td>\n",
       "      <td>0.738520</td>\n",
       "      <td>0.738231</td>\n",
       "      <td>0.550404</td>\n",
       "      <td>0.293866</td>\n",
       "    </tr>\n",
       "    <tr>\n",
       "      <th>2999</th>\n",
       "      <td>0.366855</td>\n",
       "      <td>0.604230</td>\n",
       "      <td>0.469855</td>\n",
       "      <td>0.616273</td>\n",
       "      <td>0.882457</td>\n",
       "    </tr>\n",
       "  </tbody>\n",
       "</table>\n",
       "<p>3000 rows × 5 columns</p>\n",
       "</div>"
      ],
      "text/plain": [
       "             4         3         2         1         0\n",
       "0     0.107717  0.818964  0.030362  0.908056  0.449554\n",
       "1     0.331272  0.103692  0.716038  0.729323  0.722925\n",
       "2     0.872988  0.710520  0.694941  0.548878    gourav\n",
       "3     0.368813  0.217443  0.466557  0.703869  0.505539\n",
       "4     0.040531  0.528000  0.898079  0.901359  0.119801\n",
       "...        ...       ...       ...       ...       ...\n",
       "2995  0.787753  0.013772  0.168189  0.935148  0.582159\n",
       "2996  0.020687  0.344923  0.309385  0.530590  0.054559\n",
       "2997  0.468427  0.061242  0.750674  0.466486   0.83743\n",
       "2998  0.123498  0.738520  0.738231  0.550404  0.293866\n",
       "2999  0.366855  0.604230  0.469855  0.616273  0.882457\n",
       "\n",
       "[3000 rows x 5 columns]"
      ]
     },
     "execution_count": 41,
     "metadata": {},
     "output_type": "execute_result"
    }
   ],
   "source": [
    "newdf.sort_index(axis=1,ascending=False)"
   ]
  },
  {
   "cell_type": "code",
   "execution_count": 44,
   "id": "af7e339e",
   "metadata": {},
   "outputs": [
    {
     "name": "stdout",
     "output_type": "stream",
     "text": [
      "<class 'pandas.core.series.Series'>\n"
     ]
    }
   ],
   "source": [
    "print(type(newdf[0]))"
   ]
  },
  {
   "cell_type": "code",
   "execution_count": 45,
   "id": "a3b875fb",
   "metadata": {},
   "outputs": [],
   "source": [
    "newdff=newdf.copy()"
   ]
  },
  {
   "cell_type": "code",
   "execution_count": 47,
   "id": "9bfe4926",
   "metadata": {},
   "outputs": [
    {
     "name": "stderr",
     "output_type": "stream",
     "text": [
      "C:\\Users\\ADMINI~1\\AppData\\Local\\Temp/ipykernel_2340/1371216946.py:1: SettingWithCopyWarning: \n",
      "A value is trying to be set on a copy of a slice from a DataFrame\n",
      "\n",
      "See the caveats in the documentation: https://pandas.pydata.org/pandas-docs/stable/user_guide/indexing.html#returning-a-view-versus-a-copy\n",
      "  newdff[0][0]=445\n"
     ]
    }
   ],
   "source": [
    "newdff[0][0]=445"
   ]
  },
  {
   "cell_type": "code",
   "execution_count": 48,
   "id": "7aaace00",
   "metadata": {},
   "outputs": [
    {
     "data": {
      "text/html": [
       "<div>\n",
       "<style scoped>\n",
       "    .dataframe tbody tr th:only-of-type {\n",
       "        vertical-align: middle;\n",
       "    }\n",
       "\n",
       "    .dataframe tbody tr th {\n",
       "        vertical-align: top;\n",
       "    }\n",
       "\n",
       "    .dataframe thead th {\n",
       "        text-align: right;\n",
       "    }\n",
       "</style>\n",
       "<table border=\"1\" class=\"dataframe\">\n",
       "  <thead>\n",
       "    <tr style=\"text-align: right;\">\n",
       "      <th></th>\n",
       "      <th>0</th>\n",
       "      <th>1</th>\n",
       "      <th>2</th>\n",
       "      <th>3</th>\n",
       "      <th>4</th>\n",
       "    </tr>\n",
       "  </thead>\n",
       "  <tbody>\n",
       "    <tr>\n",
       "      <th>0</th>\n",
       "      <td>445</td>\n",
       "      <td>0.908056</td>\n",
       "      <td>0.030362</td>\n",
       "      <td>0.818964</td>\n",
       "      <td>0.107717</td>\n",
       "    </tr>\n",
       "    <tr>\n",
       "      <th>1</th>\n",
       "      <td>0.722925</td>\n",
       "      <td>0.729323</td>\n",
       "      <td>0.716038</td>\n",
       "      <td>0.103692</td>\n",
       "      <td>0.331272</td>\n",
       "    </tr>\n",
       "    <tr>\n",
       "      <th>2</th>\n",
       "      <td>gourav</td>\n",
       "      <td>0.548878</td>\n",
       "      <td>0.694941</td>\n",
       "      <td>0.710520</td>\n",
       "      <td>0.872988</td>\n",
       "    </tr>\n",
       "    <tr>\n",
       "      <th>3</th>\n",
       "      <td>0.505539</td>\n",
       "      <td>0.703869</td>\n",
       "      <td>0.466557</td>\n",
       "      <td>0.217443</td>\n",
       "      <td>0.368813</td>\n",
       "    </tr>\n",
       "    <tr>\n",
       "      <th>4</th>\n",
       "      <td>0.119801</td>\n",
       "      <td>0.901359</td>\n",
       "      <td>0.898079</td>\n",
       "      <td>0.528000</td>\n",
       "      <td>0.040531</td>\n",
       "    </tr>\n",
       "    <tr>\n",
       "      <th>...</th>\n",
       "      <td>...</td>\n",
       "      <td>...</td>\n",
       "      <td>...</td>\n",
       "      <td>...</td>\n",
       "      <td>...</td>\n",
       "    </tr>\n",
       "    <tr>\n",
       "      <th>2995</th>\n",
       "      <td>0.582159</td>\n",
       "      <td>0.935148</td>\n",
       "      <td>0.168189</td>\n",
       "      <td>0.013772</td>\n",
       "      <td>0.787753</td>\n",
       "    </tr>\n",
       "    <tr>\n",
       "      <th>2996</th>\n",
       "      <td>0.054559</td>\n",
       "      <td>0.530590</td>\n",
       "      <td>0.309385</td>\n",
       "      <td>0.344923</td>\n",
       "      <td>0.020687</td>\n",
       "    </tr>\n",
       "    <tr>\n",
       "      <th>2997</th>\n",
       "      <td>0.83743</td>\n",
       "      <td>0.466486</td>\n",
       "      <td>0.750674</td>\n",
       "      <td>0.061242</td>\n",
       "      <td>0.468427</td>\n",
       "    </tr>\n",
       "    <tr>\n",
       "      <th>2998</th>\n",
       "      <td>0.293866</td>\n",
       "      <td>0.550404</td>\n",
       "      <td>0.738231</td>\n",
       "      <td>0.738520</td>\n",
       "      <td>0.123498</td>\n",
       "    </tr>\n",
       "    <tr>\n",
       "      <th>2999</th>\n",
       "      <td>0.882457</td>\n",
       "      <td>0.616273</td>\n",
       "      <td>0.469855</td>\n",
       "      <td>0.604230</td>\n",
       "      <td>0.366855</td>\n",
       "    </tr>\n",
       "  </tbody>\n",
       "</table>\n",
       "<p>3000 rows × 5 columns</p>\n",
       "</div>"
      ],
      "text/plain": [
       "             0         1         2         3         4\n",
       "0          445  0.908056  0.030362  0.818964  0.107717\n",
       "1     0.722925  0.729323  0.716038  0.103692  0.331272\n",
       "2       gourav  0.548878  0.694941  0.710520  0.872988\n",
       "3     0.505539  0.703869  0.466557  0.217443  0.368813\n",
       "4     0.119801  0.901359  0.898079  0.528000  0.040531\n",
       "...        ...       ...       ...       ...       ...\n",
       "2995  0.582159  0.935148  0.168189  0.013772  0.787753\n",
       "2996  0.054559  0.530590  0.309385  0.344923  0.020687\n",
       "2997   0.83743  0.466486  0.750674  0.061242  0.468427\n",
       "2998  0.293866  0.550404  0.738231  0.738520  0.123498\n",
       "2999  0.882457  0.616273  0.469855  0.604230  0.366855\n",
       "\n",
       "[3000 rows x 5 columns]"
      ]
     },
     "execution_count": 48,
     "metadata": {},
     "output_type": "execute_result"
    }
   ],
   "source": [
    "newdff"
   ]
  },
  {
   "cell_type": "code",
   "execution_count": 49,
   "id": "702a51cc",
   "metadata": {},
   "outputs": [],
   "source": [
    "newdff.loc[1,0]=555"
   ]
  },
  {
   "cell_type": "code",
   "execution_count": 50,
   "id": "dfef3f6b",
   "metadata": {},
   "outputs": [
    {
     "data": {
      "text/html": [
       "<div>\n",
       "<style scoped>\n",
       "    .dataframe tbody tr th:only-of-type {\n",
       "        vertical-align: middle;\n",
       "    }\n",
       "\n",
       "    .dataframe tbody tr th {\n",
       "        vertical-align: top;\n",
       "    }\n",
       "\n",
       "    .dataframe thead th {\n",
       "        text-align: right;\n",
       "    }\n",
       "</style>\n",
       "<table border=\"1\" class=\"dataframe\">\n",
       "  <thead>\n",
       "    <tr style=\"text-align: right;\">\n",
       "      <th></th>\n",
       "      <th>0</th>\n",
       "      <th>1</th>\n",
       "      <th>2</th>\n",
       "      <th>3</th>\n",
       "      <th>4</th>\n",
       "    </tr>\n",
       "  </thead>\n",
       "  <tbody>\n",
       "    <tr>\n",
       "      <th>0</th>\n",
       "      <td>445</td>\n",
       "      <td>0.908056</td>\n",
       "      <td>0.030362</td>\n",
       "      <td>0.818964</td>\n",
       "      <td>0.107717</td>\n",
       "    </tr>\n",
       "    <tr>\n",
       "      <th>1</th>\n",
       "      <td>555</td>\n",
       "      <td>0.729323</td>\n",
       "      <td>0.716038</td>\n",
       "      <td>0.103692</td>\n",
       "      <td>0.331272</td>\n",
       "    </tr>\n",
       "    <tr>\n",
       "      <th>2</th>\n",
       "      <td>gourav</td>\n",
       "      <td>0.548878</td>\n",
       "      <td>0.694941</td>\n",
       "      <td>0.710520</td>\n",
       "      <td>0.872988</td>\n",
       "    </tr>\n",
       "    <tr>\n",
       "      <th>3</th>\n",
       "      <td>0.505539</td>\n",
       "      <td>0.703869</td>\n",
       "      <td>0.466557</td>\n",
       "      <td>0.217443</td>\n",
       "      <td>0.368813</td>\n",
       "    </tr>\n",
       "    <tr>\n",
       "      <th>4</th>\n",
       "      <td>0.119801</td>\n",
       "      <td>0.901359</td>\n",
       "      <td>0.898079</td>\n",
       "      <td>0.528000</td>\n",
       "      <td>0.040531</td>\n",
       "    </tr>\n",
       "    <tr>\n",
       "      <th>...</th>\n",
       "      <td>...</td>\n",
       "      <td>...</td>\n",
       "      <td>...</td>\n",
       "      <td>...</td>\n",
       "      <td>...</td>\n",
       "    </tr>\n",
       "    <tr>\n",
       "      <th>2995</th>\n",
       "      <td>0.582159</td>\n",
       "      <td>0.935148</td>\n",
       "      <td>0.168189</td>\n",
       "      <td>0.013772</td>\n",
       "      <td>0.787753</td>\n",
       "    </tr>\n",
       "    <tr>\n",
       "      <th>2996</th>\n",
       "      <td>0.054559</td>\n",
       "      <td>0.530590</td>\n",
       "      <td>0.309385</td>\n",
       "      <td>0.344923</td>\n",
       "      <td>0.020687</td>\n",
       "    </tr>\n",
       "    <tr>\n",
       "      <th>2997</th>\n",
       "      <td>0.83743</td>\n",
       "      <td>0.466486</td>\n",
       "      <td>0.750674</td>\n",
       "      <td>0.061242</td>\n",
       "      <td>0.468427</td>\n",
       "    </tr>\n",
       "    <tr>\n",
       "      <th>2998</th>\n",
       "      <td>0.293866</td>\n",
       "      <td>0.550404</td>\n",
       "      <td>0.738231</td>\n",
       "      <td>0.738520</td>\n",
       "      <td>0.123498</td>\n",
       "    </tr>\n",
       "    <tr>\n",
       "      <th>2999</th>\n",
       "      <td>0.882457</td>\n",
       "      <td>0.616273</td>\n",
       "      <td>0.469855</td>\n",
       "      <td>0.604230</td>\n",
       "      <td>0.366855</td>\n",
       "    </tr>\n",
       "  </tbody>\n",
       "</table>\n",
       "<p>3000 rows × 5 columns</p>\n",
       "</div>"
      ],
      "text/plain": [
       "             0         1         2         3         4\n",
       "0          445  0.908056  0.030362  0.818964  0.107717\n",
       "1          555  0.729323  0.716038  0.103692  0.331272\n",
       "2       gourav  0.548878  0.694941  0.710520  0.872988\n",
       "3     0.505539  0.703869  0.466557  0.217443  0.368813\n",
       "4     0.119801  0.901359  0.898079  0.528000  0.040531\n",
       "...        ...       ...       ...       ...       ...\n",
       "2995  0.582159  0.935148  0.168189  0.013772  0.787753\n",
       "2996  0.054559  0.530590  0.309385  0.344923  0.020687\n",
       "2997   0.83743  0.466486  0.750674  0.061242  0.468427\n",
       "2998  0.293866  0.550404  0.738231  0.738520  0.123498\n",
       "2999  0.882457  0.616273  0.469855  0.604230  0.366855\n",
       "\n",
       "[3000 rows x 5 columns]"
      ]
     },
     "execution_count": 50,
     "metadata": {},
     "output_type": "execute_result"
    }
   ],
   "source": [
    "newdff "
   ]
  },
  {
   "cell_type": "code",
   "execution_count": 51,
   "id": "a4bbea79",
   "metadata": {},
   "outputs": [],
   "source": [
    "newdff.columns=[\"fir\",\"sec\",\"third\",\"fourth\",\"fifth\"]"
   ]
  },
  {
   "cell_type": "code",
   "execution_count": 52,
   "id": "25a2cd77",
   "metadata": {},
   "outputs": [
    {
     "data": {
      "text/html": [
       "<div>\n",
       "<style scoped>\n",
       "    .dataframe tbody tr th:only-of-type {\n",
       "        vertical-align: middle;\n",
       "    }\n",
       "\n",
       "    .dataframe tbody tr th {\n",
       "        vertical-align: top;\n",
       "    }\n",
       "\n",
       "    .dataframe thead th {\n",
       "        text-align: right;\n",
       "    }\n",
       "</style>\n",
       "<table border=\"1\" class=\"dataframe\">\n",
       "  <thead>\n",
       "    <tr style=\"text-align: right;\">\n",
       "      <th></th>\n",
       "      <th>fir</th>\n",
       "      <th>sec</th>\n",
       "      <th>third</th>\n",
       "      <th>fourth</th>\n",
       "      <th>fifth</th>\n",
       "    </tr>\n",
       "  </thead>\n",
       "  <tbody>\n",
       "    <tr>\n",
       "      <th>0</th>\n",
       "      <td>445</td>\n",
       "      <td>0.908056</td>\n",
       "      <td>0.030362</td>\n",
       "      <td>0.818964</td>\n",
       "      <td>0.107717</td>\n",
       "    </tr>\n",
       "    <tr>\n",
       "      <th>1</th>\n",
       "      <td>555</td>\n",
       "      <td>0.729323</td>\n",
       "      <td>0.716038</td>\n",
       "      <td>0.103692</td>\n",
       "      <td>0.331272</td>\n",
       "    </tr>\n",
       "    <tr>\n",
       "      <th>2</th>\n",
       "      <td>gourav</td>\n",
       "      <td>0.548878</td>\n",
       "      <td>0.694941</td>\n",
       "      <td>0.710520</td>\n",
       "      <td>0.872988</td>\n",
       "    </tr>\n",
       "    <tr>\n",
       "      <th>3</th>\n",
       "      <td>0.505539</td>\n",
       "      <td>0.703869</td>\n",
       "      <td>0.466557</td>\n",
       "      <td>0.217443</td>\n",
       "      <td>0.368813</td>\n",
       "    </tr>\n",
       "    <tr>\n",
       "      <th>4</th>\n",
       "      <td>0.119801</td>\n",
       "      <td>0.901359</td>\n",
       "      <td>0.898079</td>\n",
       "      <td>0.528000</td>\n",
       "      <td>0.040531</td>\n",
       "    </tr>\n",
       "    <tr>\n",
       "      <th>...</th>\n",
       "      <td>...</td>\n",
       "      <td>...</td>\n",
       "      <td>...</td>\n",
       "      <td>...</td>\n",
       "      <td>...</td>\n",
       "    </tr>\n",
       "    <tr>\n",
       "      <th>2995</th>\n",
       "      <td>0.582159</td>\n",
       "      <td>0.935148</td>\n",
       "      <td>0.168189</td>\n",
       "      <td>0.013772</td>\n",
       "      <td>0.787753</td>\n",
       "    </tr>\n",
       "    <tr>\n",
       "      <th>2996</th>\n",
       "      <td>0.054559</td>\n",
       "      <td>0.530590</td>\n",
       "      <td>0.309385</td>\n",
       "      <td>0.344923</td>\n",
       "      <td>0.020687</td>\n",
       "    </tr>\n",
       "    <tr>\n",
       "      <th>2997</th>\n",
       "      <td>0.83743</td>\n",
       "      <td>0.466486</td>\n",
       "      <td>0.750674</td>\n",
       "      <td>0.061242</td>\n",
       "      <td>0.468427</td>\n",
       "    </tr>\n",
       "    <tr>\n",
       "      <th>2998</th>\n",
       "      <td>0.293866</td>\n",
       "      <td>0.550404</td>\n",
       "      <td>0.738231</td>\n",
       "      <td>0.738520</td>\n",
       "      <td>0.123498</td>\n",
       "    </tr>\n",
       "    <tr>\n",
       "      <th>2999</th>\n",
       "      <td>0.882457</td>\n",
       "      <td>0.616273</td>\n",
       "      <td>0.469855</td>\n",
       "      <td>0.604230</td>\n",
       "      <td>0.366855</td>\n",
       "    </tr>\n",
       "  </tbody>\n",
       "</table>\n",
       "<p>3000 rows × 5 columns</p>\n",
       "</div>"
      ],
      "text/plain": [
       "           fir       sec     third    fourth     fifth\n",
       "0          445  0.908056  0.030362  0.818964  0.107717\n",
       "1          555  0.729323  0.716038  0.103692  0.331272\n",
       "2       gourav  0.548878  0.694941  0.710520  0.872988\n",
       "3     0.505539  0.703869  0.466557  0.217443  0.368813\n",
       "4     0.119801  0.901359  0.898079  0.528000  0.040531\n",
       "...        ...       ...       ...       ...       ...\n",
       "2995  0.582159  0.935148  0.168189  0.013772  0.787753\n",
       "2996  0.054559  0.530590  0.309385  0.344923  0.020687\n",
       "2997   0.83743  0.466486  0.750674  0.061242  0.468427\n",
       "2998  0.293866  0.550404  0.738231  0.738520  0.123498\n",
       "2999  0.882457  0.616273  0.469855  0.604230  0.366855\n",
       "\n",
       "[3000 rows x 5 columns]"
      ]
     },
     "execution_count": 52,
     "metadata": {},
     "output_type": "execute_result"
    }
   ],
   "source": [
    "newdff"
   ]
  },
  {
   "cell_type": "code",
   "execution_count": 56,
   "id": "36fc1e12",
   "metadata": {},
   "outputs": [],
   "source": [
    "newdff[5,sec]=2222"
   ]
  },
  {
   "cell_type": "code",
   "execution_count": 57,
   "id": "c2e477c6",
   "metadata": {},
   "outputs": [
    {
     "data": {
      "text/html": [
       "<div>\n",
       "<style scoped>\n",
       "    .dataframe tbody tr th:only-of-type {\n",
       "        vertical-align: middle;\n",
       "    }\n",
       "\n",
       "    .dataframe tbody tr th {\n",
       "        vertical-align: top;\n",
       "    }\n",
       "\n",
       "    .dataframe thead th {\n",
       "        text-align: right;\n",
       "    }\n",
       "</style>\n",
       "<table border=\"1\" class=\"dataframe\">\n",
       "  <thead>\n",
       "    <tr style=\"text-align: right;\">\n",
       "      <th></th>\n",
       "      <th>fir</th>\n",
       "      <th>sec</th>\n",
       "      <th>third</th>\n",
       "      <th>fourth</th>\n",
       "      <th>fifth</th>\n",
       "      <th>(5, sec)</th>\n",
       "    </tr>\n",
       "  </thead>\n",
       "  <tbody>\n",
       "    <tr>\n",
       "      <th>0</th>\n",
       "      <td>445</td>\n",
       "      <td>0.908056</td>\n",
       "      <td>0.030362</td>\n",
       "      <td>0.818964</td>\n",
       "      <td>0.107717</td>\n",
       "      <td>2222</td>\n",
       "    </tr>\n",
       "    <tr>\n",
       "      <th>1</th>\n",
       "      <td>555</td>\n",
       "      <td>0.729323</td>\n",
       "      <td>0.716038</td>\n",
       "      <td>0.103692</td>\n",
       "      <td>0.331272</td>\n",
       "      <td>2222</td>\n",
       "    </tr>\n",
       "    <tr>\n",
       "      <th>2</th>\n",
       "      <td>gourav</td>\n",
       "      <td>0.548878</td>\n",
       "      <td>0.694941</td>\n",
       "      <td>0.710520</td>\n",
       "      <td>0.872988</td>\n",
       "      <td>2222</td>\n",
       "    </tr>\n",
       "    <tr>\n",
       "      <th>3</th>\n",
       "      <td>0.505539</td>\n",
       "      <td>0.703869</td>\n",
       "      <td>0.466557</td>\n",
       "      <td>0.217443</td>\n",
       "      <td>0.368813</td>\n",
       "      <td>2222</td>\n",
       "    </tr>\n",
       "    <tr>\n",
       "      <th>4</th>\n",
       "      <td>0.119801</td>\n",
       "      <td>0.901359</td>\n",
       "      <td>0.898079</td>\n",
       "      <td>0.528000</td>\n",
       "      <td>0.040531</td>\n",
       "      <td>2222</td>\n",
       "    </tr>\n",
       "  </tbody>\n",
       "</table>\n",
       "</div>"
      ],
      "text/plain": [
       "        fir       sec     third    fourth     fifth  (5, sec)\n",
       "0       445  0.908056  0.030362  0.818964  0.107717      2222\n",
       "1       555  0.729323  0.716038  0.103692  0.331272      2222\n",
       "2    gourav  0.548878  0.694941  0.710520  0.872988      2222\n",
       "3  0.505539  0.703869  0.466557  0.217443  0.368813      2222\n",
       "4  0.119801  0.901359  0.898079  0.528000  0.040531      2222"
      ]
     },
     "execution_count": 57,
     "metadata": {},
     "output_type": "execute_result"
    }
   ],
   "source": [
    "newdff.head(5)"
   ]
  },
  {
   "cell_type": "code",
   "execution_count": 65,
   "id": "fb5a1069",
   "metadata": {},
   "outputs": [
    {
     "data": {
      "text/plain": [
       "Index(['fir', 'sec', 'third', 'fourth', 'fifth', (5, 'sec')], dtype='object')"
      ]
     },
     "execution_count": 65,
     "metadata": {},
     "output_type": "execute_result"
    }
   ],
   "source": [
    "newdff.columns"
   ]
  },
  {
   "cell_type": "code",
   "execution_count": 69,
   "id": "2be7339b",
   "metadata": {},
   "outputs": [
    {
     "data": {
      "text/html": [
       "<div>\n",
       "<style scoped>\n",
       "    .dataframe tbody tr th:only-of-type {\n",
       "        vertical-align: middle;\n",
       "    }\n",
       "\n",
       "    .dataframe tbody tr th {\n",
       "        vertical-align: top;\n",
       "    }\n",
       "\n",
       "    .dataframe thead th {\n",
       "        text-align: right;\n",
       "    }\n",
       "</style>\n",
       "<table border=\"1\" class=\"dataframe\">\n",
       "  <thead>\n",
       "    <tr style=\"text-align: right;\">\n",
       "      <th></th>\n",
       "      <th>fir</th>\n",
       "      <th>sec</th>\n",
       "      <th>third</th>\n",
       "      <th>fourth</th>\n",
       "      <th>fifth</th>\n",
       "    </tr>\n",
       "  </thead>\n",
       "  <tbody>\n",
       "    <tr>\n",
       "      <th>0</th>\n",
       "      <td>445</td>\n",
       "      <td>0.908056</td>\n",
       "      <td>0.030362</td>\n",
       "      <td>0.818964</td>\n",
       "      <td>0.107717</td>\n",
       "    </tr>\n",
       "    <tr>\n",
       "      <th>1</th>\n",
       "      <td>555</td>\n",
       "      <td>0.729323</td>\n",
       "      <td>0.716038</td>\n",
       "      <td>0.103692</td>\n",
       "      <td>0.331272</td>\n",
       "    </tr>\n",
       "    <tr>\n",
       "      <th>2</th>\n",
       "      <td>gourav</td>\n",
       "      <td>0.548878</td>\n",
       "      <td>0.694941</td>\n",
       "      <td>0.710520</td>\n",
       "      <td>0.872988</td>\n",
       "    </tr>\n",
       "    <tr>\n",
       "      <th>3</th>\n",
       "      <td>0.505539</td>\n",
       "      <td>0.703869</td>\n",
       "      <td>0.466557</td>\n",
       "      <td>0.217443</td>\n",
       "      <td>0.368813</td>\n",
       "    </tr>\n",
       "    <tr>\n",
       "      <th>4</th>\n",
       "      <td>0.119801</td>\n",
       "      <td>0.901359</td>\n",
       "      <td>0.898079</td>\n",
       "      <td>0.528000</td>\n",
       "      <td>0.040531</td>\n",
       "    </tr>\n",
       "    <tr>\n",
       "      <th>...</th>\n",
       "      <td>...</td>\n",
       "      <td>...</td>\n",
       "      <td>...</td>\n",
       "      <td>...</td>\n",
       "      <td>...</td>\n",
       "    </tr>\n",
       "    <tr>\n",
       "      <th>2995</th>\n",
       "      <td>0.582159</td>\n",
       "      <td>0.935148</td>\n",
       "      <td>0.168189</td>\n",
       "      <td>0.013772</td>\n",
       "      <td>0.787753</td>\n",
       "    </tr>\n",
       "    <tr>\n",
       "      <th>2996</th>\n",
       "      <td>0.054559</td>\n",
       "      <td>0.530590</td>\n",
       "      <td>0.309385</td>\n",
       "      <td>0.344923</td>\n",
       "      <td>0.020687</td>\n",
       "    </tr>\n",
       "    <tr>\n",
       "      <th>2997</th>\n",
       "      <td>0.83743</td>\n",
       "      <td>0.466486</td>\n",
       "      <td>0.750674</td>\n",
       "      <td>0.061242</td>\n",
       "      <td>0.468427</td>\n",
       "    </tr>\n",
       "    <tr>\n",
       "      <th>2998</th>\n",
       "      <td>0.293866</td>\n",
       "      <td>0.550404</td>\n",
       "      <td>0.738231</td>\n",
       "      <td>0.738520</td>\n",
       "      <td>0.123498</td>\n",
       "    </tr>\n",
       "    <tr>\n",
       "      <th>2999</th>\n",
       "      <td>0.882457</td>\n",
       "      <td>0.616273</td>\n",
       "      <td>0.469855</td>\n",
       "      <td>0.604230</td>\n",
       "      <td>0.366855</td>\n",
       "    </tr>\n",
       "  </tbody>\n",
       "</table>\n",
       "<p>3000 rows × 5 columns</p>\n",
       "</div>"
      ],
      "text/plain": [
       "           fir       sec     third    fourth     fifth\n",
       "0          445  0.908056  0.030362  0.818964  0.107717\n",
       "1          555  0.729323  0.716038  0.103692  0.331272\n",
       "2       gourav  0.548878  0.694941  0.710520  0.872988\n",
       "3     0.505539  0.703869  0.466557  0.217443  0.368813\n",
       "4     0.119801  0.901359  0.898079  0.528000  0.040531\n",
       "...        ...       ...       ...       ...       ...\n",
       "2995  0.582159  0.935148  0.168189  0.013772  0.787753\n",
       "2996  0.054559  0.530590  0.309385  0.344923  0.020687\n",
       "2997   0.83743  0.466486  0.750674  0.061242  0.468427\n",
       "2998  0.293866  0.550404  0.738231  0.738520  0.123498\n",
       "2999  0.882457  0.616273  0.469855  0.604230  0.366855\n",
       "\n",
       "[3000 rows x 5 columns]"
      ]
     },
     "execution_count": 69,
     "metadata": {},
     "output_type": "execute_result"
    }
   ],
   "source": [
    "newdff.drop((5,\"sec\"),axis=1)"
   ]
  },
  {
   "cell_type": "code",
   "execution_count": 78,
   "id": "70dd4a39",
   "metadata": {},
   "outputs": [
    {
     "data": {
      "text/html": [
       "<div>\n",
       "<style scoped>\n",
       "    .dataframe tbody tr th:only-of-type {\n",
       "        vertical-align: middle;\n",
       "    }\n",
       "\n",
       "    .dataframe tbody tr th {\n",
       "        vertical-align: top;\n",
       "    }\n",
       "\n",
       "    .dataframe thead th {\n",
       "        text-align: right;\n",
       "    }\n",
       "</style>\n",
       "<table border=\"1\" class=\"dataframe\">\n",
       "  <thead>\n",
       "    <tr style=\"text-align: right;\">\n",
       "      <th></th>\n",
       "      <th>fir</th>\n",
       "      <th>sec</th>\n",
       "      <th>third</th>\n",
       "      <th>fourth</th>\n",
       "      <th>fifth</th>\n",
       "      <th>(5, sec)</th>\n",
       "    </tr>\n",
       "  </thead>\n",
       "  <tbody>\n",
       "    <tr>\n",
       "      <th>1</th>\n",
       "      <td>555</td>\n",
       "      <td>0.729323</td>\n",
       "      <td>0.716038</td>\n",
       "      <td>0.103692</td>\n",
       "      <td>0.331272</td>\n",
       "      <td>2222</td>\n",
       "    </tr>\n",
       "    <tr>\n",
       "      <th>4</th>\n",
       "      <td>0.119801</td>\n",
       "      <td>0.901359</td>\n",
       "      <td>0.898079</td>\n",
       "      <td>0.528000</td>\n",
       "      <td>0.040531</td>\n",
       "      <td>2222</td>\n",
       "    </tr>\n",
       "  </tbody>\n",
       "</table>\n",
       "</div>"
      ],
      "text/plain": [
       "        fir       sec     third    fourth     fifth  (5, sec)\n",
       "1       555  0.729323  0.716038  0.103692  0.331272      2222\n",
       "4  0.119801  0.901359  0.898079  0.528000  0.040531      2222"
      ]
     },
     "execution_count": 78,
     "metadata": {},
     "output_type": "execute_result"
    }
   ],
   "source": [
    "newdff.loc[[1,4],:]"
   ]
  },
  {
   "cell_type": "code",
   "execution_count": 88,
   "id": "5d8b838c",
   "metadata": {},
   "outputs": [
    {
     "name": "stdout",
     "output_type": "stream",
     "text": [
      "<class 'pandas.core.frame.DataFrame'>\n"
     ]
    }
   ],
   "source": [
    "print(type(newdff.loc[(newdff[\"sec\"]<0.3)]))"
   ]
  },
  {
   "cell_type": "code",
   "execution_count": 89,
   "id": "89731aa3",
   "metadata": {},
   "outputs": [],
   "source": [
    "#this is for iloc function"
   ]
  },
  {
   "cell_type": "code",
   "execution_count": 93,
   "id": "9f39a2bc",
   "metadata": {},
   "outputs": [
    {
     "data": {
      "text/plain": [
       "0.3688127532792119"
      ]
     },
     "execution_count": 93,
     "metadata": {},
     "output_type": "execute_result"
    }
   ],
   "source": [
    "newdf.iloc[3,4]"
   ]
  },
  {
   "cell_type": "code",
   "execution_count": 94,
   "id": "cbc834db",
   "metadata": {},
   "outputs": [
    {
     "data": {
      "text/html": [
       "<div>\n",
       "<style scoped>\n",
       "    .dataframe tbody tr th:only-of-type {\n",
       "        vertical-align: middle;\n",
       "    }\n",
       "\n",
       "    .dataframe tbody tr th {\n",
       "        vertical-align: top;\n",
       "    }\n",
       "\n",
       "    .dataframe thead th {\n",
       "        text-align: right;\n",
       "    }\n",
       "</style>\n",
       "<table border=\"1\" class=\"dataframe\">\n",
       "  <thead>\n",
       "    <tr style=\"text-align: right;\">\n",
       "      <th></th>\n",
       "      <th>fir</th>\n",
       "      <th>sec</th>\n",
       "      <th>third</th>\n",
       "      <th>fourth</th>\n",
       "      <th>fifth</th>\n",
       "      <th>(5, sec)</th>\n",
       "    </tr>\n",
       "  </thead>\n",
       "  <tbody>\n",
       "    <tr>\n",
       "      <th>0</th>\n",
       "      <td>445</td>\n",
       "      <td>0.908056</td>\n",
       "      <td>0.030362</td>\n",
       "      <td>0.818964</td>\n",
       "      <td>0.107717</td>\n",
       "      <td>2222</td>\n",
       "    </tr>\n",
       "    <tr>\n",
       "      <th>1</th>\n",
       "      <td>555</td>\n",
       "      <td>0.729323</td>\n",
       "      <td>0.716038</td>\n",
       "      <td>0.103692</td>\n",
       "      <td>0.331272</td>\n",
       "      <td>2222</td>\n",
       "    </tr>\n",
       "    <tr>\n",
       "      <th>2</th>\n",
       "      <td>gourav</td>\n",
       "      <td>0.548878</td>\n",
       "      <td>0.694941</td>\n",
       "      <td>0.710520</td>\n",
       "      <td>0.872988</td>\n",
       "      <td>2222</td>\n",
       "    </tr>\n",
       "    <tr>\n",
       "      <th>3</th>\n",
       "      <td>0.505539</td>\n",
       "      <td>0.703869</td>\n",
       "      <td>0.466557</td>\n",
       "      <td>0.217443</td>\n",
       "      <td>0.368813</td>\n",
       "      <td>2222</td>\n",
       "    </tr>\n",
       "    <tr>\n",
       "      <th>4</th>\n",
       "      <td>0.119801</td>\n",
       "      <td>0.901359</td>\n",
       "      <td>0.898079</td>\n",
       "      <td>0.528000</td>\n",
       "      <td>0.040531</td>\n",
       "      <td>2222</td>\n",
       "    </tr>\n",
       "    <tr>\n",
       "      <th>...</th>\n",
       "      <td>...</td>\n",
       "      <td>...</td>\n",
       "      <td>...</td>\n",
       "      <td>...</td>\n",
       "      <td>...</td>\n",
       "      <td>...</td>\n",
       "    </tr>\n",
       "    <tr>\n",
       "      <th>2995</th>\n",
       "      <td>0.582159</td>\n",
       "      <td>0.935148</td>\n",
       "      <td>0.168189</td>\n",
       "      <td>0.013772</td>\n",
       "      <td>0.787753</td>\n",
       "      <td>2222</td>\n",
       "    </tr>\n",
       "    <tr>\n",
       "      <th>2996</th>\n",
       "      <td>0.054559</td>\n",
       "      <td>0.530590</td>\n",
       "      <td>0.309385</td>\n",
       "      <td>0.344923</td>\n",
       "      <td>0.020687</td>\n",
       "      <td>2222</td>\n",
       "    </tr>\n",
       "    <tr>\n",
       "      <th>2997</th>\n",
       "      <td>0.83743</td>\n",
       "      <td>0.466486</td>\n",
       "      <td>0.750674</td>\n",
       "      <td>0.061242</td>\n",
       "      <td>0.468427</td>\n",
       "      <td>2222</td>\n",
       "    </tr>\n",
       "    <tr>\n",
       "      <th>2998</th>\n",
       "      <td>0.293866</td>\n",
       "      <td>0.550404</td>\n",
       "      <td>0.738231</td>\n",
       "      <td>0.738520</td>\n",
       "      <td>0.123498</td>\n",
       "      <td>2222</td>\n",
       "    </tr>\n",
       "    <tr>\n",
       "      <th>2999</th>\n",
       "      <td>0.882457</td>\n",
       "      <td>0.616273</td>\n",
       "      <td>0.469855</td>\n",
       "      <td>0.604230</td>\n",
       "      <td>0.366855</td>\n",
       "      <td>2222</td>\n",
       "    </tr>\n",
       "  </tbody>\n",
       "</table>\n",
       "<p>3000 rows × 6 columns</p>\n",
       "</div>"
      ],
      "text/plain": [
       "           fir       sec     third    fourth     fifth  (5, sec)\n",
       "0          445  0.908056  0.030362  0.818964  0.107717      2222\n",
       "1          555  0.729323  0.716038  0.103692  0.331272      2222\n",
       "2       gourav  0.548878  0.694941  0.710520  0.872988      2222\n",
       "3     0.505539  0.703869  0.466557  0.217443  0.368813      2222\n",
       "4     0.119801  0.901359  0.898079  0.528000  0.040531      2222\n",
       "...        ...       ...       ...       ...       ...       ...\n",
       "2995  0.582159  0.935148  0.168189  0.013772  0.787753      2222\n",
       "2996  0.054559  0.530590  0.309385  0.344923  0.020687      2222\n",
       "2997   0.83743  0.466486  0.750674  0.061242  0.468427      2222\n",
       "2998  0.293866  0.550404  0.738231  0.738520  0.123498      2222\n",
       "2999  0.882457  0.616273  0.469855  0.604230  0.366855      2222\n",
       "\n",
       "[3000 rows x 6 columns]"
      ]
     },
     "execution_count": 94,
     "metadata": {},
     "output_type": "execute_result"
    }
   ],
   "source": [
    "newdff"
   ]
  },
  {
   "cell_type": "code",
   "execution_count": 97,
   "id": "bf9f0d0b",
   "metadata": {},
   "outputs": [
    {
     "name": "stdout",
     "output_type": "stream",
     "text": [
      "<class 'pandas.core.frame.DataFrame'>\n",
      "RangeIndex: 3000 entries, 0 to 2999\n",
      "Data columns (total 5 columns):\n",
      " #   Column  Non-Null Count  Dtype  \n",
      "---  ------  --------------  -----  \n",
      " 0   0       3000 non-null   object \n",
      " 1   1       3000 non-null   float64\n",
      " 2   2       3000 non-null   float64\n",
      " 3   3       3000 non-null   float64\n",
      " 4   4       3000 non-null   float64\n",
      "dtypes: float64(4), object(1)\n",
      "memory usage: 105.5+ KB\n"
     ]
    }
   ],
   "source": [
    "newdf.info()"
   ]
  },
  {
   "cell_type": "code",
   "execution_count": 101,
   "id": "4a3a6afa",
   "metadata": {},
   "outputs": [],
   "source": [
    "data=np.random.rand(3,2)"
   ]
  },
  {
   "cell_type": "code",
   "execution_count": 103,
   "id": "a26a7505",
   "metadata": {},
   "outputs": [],
   "source": [
    "data=pd.DataFrame(data)"
   ]
  },
  {
   "cell_type": "code",
   "execution_count": 104,
   "id": "748bee26",
   "metadata": {},
   "outputs": [
    {
     "data": {
      "text/html": [
       "<div>\n",
       "<style scoped>\n",
       "    .dataframe tbody tr th:only-of-type {\n",
       "        vertical-align: middle;\n",
       "    }\n",
       "\n",
       "    .dataframe tbody tr th {\n",
       "        vertical-align: top;\n",
       "    }\n",
       "\n",
       "    .dataframe thead th {\n",
       "        text-align: right;\n",
       "    }\n",
       "</style>\n",
       "<table border=\"1\" class=\"dataframe\">\n",
       "  <thead>\n",
       "    <tr style=\"text-align: right;\">\n",
       "      <th></th>\n",
       "      <th>0</th>\n",
       "      <th>1</th>\n",
       "    </tr>\n",
       "  </thead>\n",
       "  <tbody>\n",
       "    <tr>\n",
       "      <th>0</th>\n",
       "      <td>0.929501</td>\n",
       "      <td>0.317953</td>\n",
       "    </tr>\n",
       "    <tr>\n",
       "      <th>1</th>\n",
       "      <td>0.582886</td>\n",
       "      <td>0.771927</td>\n",
       "    </tr>\n",
       "    <tr>\n",
       "      <th>2</th>\n",
       "      <td>0.604922</td>\n",
       "      <td>0.850462</td>\n",
       "    </tr>\n",
       "  </tbody>\n",
       "</table>\n",
       "</div>"
      ],
      "text/plain": [
       "          0         1\n",
       "0  0.929501  0.317953\n",
       "1  0.582886  0.771927\n",
       "2  0.604922  0.850462"
      ]
     },
     "execution_count": 104,
     "metadata": {},
     "output_type": "execute_result"
    }
   ],
   "source": [
    "data"
   ]
  },
  {
   "cell_type": "code",
   "execution_count": 105,
   "id": "e130e60a",
   "metadata": {},
   "outputs": [
    {
     "data": {
      "text/html": [
       "<div>\n",
       "<style scoped>\n",
       "    .dataframe tbody tr th:only-of-type {\n",
       "        vertical-align: middle;\n",
       "    }\n",
       "\n",
       "    .dataframe tbody tr th {\n",
       "        vertical-align: top;\n",
       "    }\n",
       "\n",
       "    .dataframe thead th {\n",
       "        text-align: right;\n",
       "    }\n",
       "</style>\n",
       "<table border=\"1\" class=\"dataframe\">\n",
       "  <thead>\n",
       "    <tr style=\"text-align: right;\">\n",
       "      <th></th>\n",
       "      <th>0</th>\n",
       "      <th>1</th>\n",
       "    </tr>\n",
       "  </thead>\n",
       "  <tbody>\n",
       "    <tr>\n",
       "      <th>count</th>\n",
       "      <td>3.000000</td>\n",
       "      <td>3.000000</td>\n",
       "    </tr>\n",
       "    <tr>\n",
       "      <th>mean</th>\n",
       "      <td>0.705770</td>\n",
       "      <td>0.646781</td>\n",
       "    </tr>\n",
       "    <tr>\n",
       "      <th>std</th>\n",
       "      <td>0.194070</td>\n",
       "      <td>0.287468</td>\n",
       "    </tr>\n",
       "    <tr>\n",
       "      <th>min</th>\n",
       "      <td>0.582886</td>\n",
       "      <td>0.317953</td>\n",
       "    </tr>\n",
       "    <tr>\n",
       "      <th>25%</th>\n",
       "      <td>0.593904</td>\n",
       "      <td>0.544940</td>\n",
       "    </tr>\n",
       "    <tr>\n",
       "      <th>50%</th>\n",
       "      <td>0.604922</td>\n",
       "      <td>0.771927</td>\n",
       "    </tr>\n",
       "    <tr>\n",
       "      <th>75%</th>\n",
       "      <td>0.767212</td>\n",
       "      <td>0.811195</td>\n",
       "    </tr>\n",
       "    <tr>\n",
       "      <th>max</th>\n",
       "      <td>0.929501</td>\n",
       "      <td>0.850462</td>\n",
       "    </tr>\n",
       "  </tbody>\n",
       "</table>\n",
       "</div>"
      ],
      "text/plain": [
       "              0         1\n",
       "count  3.000000  3.000000\n",
       "mean   0.705770  0.646781\n",
       "std    0.194070  0.287468\n",
       "min    0.582886  0.317953\n",
       "25%    0.593904  0.544940\n",
       "50%    0.604922  0.771927\n",
       "75%    0.767212  0.811195\n",
       "max    0.929501  0.850462"
      ]
     },
     "execution_count": 105,
     "metadata": {},
     "output_type": "execute_result"
    }
   ],
   "source": [
    "data.describe()"
   ]
  },
  {
   "cell_type": "code",
   "execution_count": 106,
   "id": "875ce30d",
   "metadata": {},
   "outputs": [
    {
     "data": {
      "text/plain": [
       "0    0.705770\n",
       "1    0.646781\n",
       "dtype: float64"
      ]
     },
     "execution_count": 106,
     "metadata": {},
     "output_type": "execute_result"
    }
   ],
   "source": [
    "data.mean()"
   ]
  },
  {
   "cell_type": "code",
   "execution_count": 107,
   "id": "ad79f4f2",
   "metadata": {},
   "outputs": [
    {
     "data": {
      "text/html": [
       "<div>\n",
       "<style scoped>\n",
       "    .dataframe tbody tr th:only-of-type {\n",
       "        vertical-align: middle;\n",
       "    }\n",
       "\n",
       "    .dataframe tbody tr th {\n",
       "        vertical-align: top;\n",
       "    }\n",
       "\n",
       "    .dataframe thead th {\n",
       "        text-align: right;\n",
       "    }\n",
       "</style>\n",
       "<table border=\"1\" class=\"dataframe\">\n",
       "  <thead>\n",
       "    <tr style=\"text-align: right;\">\n",
       "      <th></th>\n",
       "      <th>0</th>\n",
       "      <th>1</th>\n",
       "    </tr>\n",
       "  </thead>\n",
       "  <tbody>\n",
       "    <tr>\n",
       "      <th>0</th>\n",
       "      <td>1.000000</td>\n",
       "      <td>-0.981274</td>\n",
       "    </tr>\n",
       "    <tr>\n",
       "      <th>1</th>\n",
       "      <td>-0.981274</td>\n",
       "      <td>1.000000</td>\n",
       "    </tr>\n",
       "  </tbody>\n",
       "</table>\n",
       "</div>"
      ],
      "text/plain": [
       "          0         1\n",
       "0  1.000000 -0.981274\n",
       "1 -0.981274  1.000000"
      ]
     },
     "execution_count": 107,
     "metadata": {},
     "output_type": "execute_result"
    }
   ],
   "source": [
    "data.corr()"
   ]
  },
  {
   "cell_type": "code",
   "execution_count": 108,
   "id": "f3d2825d",
   "metadata": {},
   "outputs": [
    {
     "data": {
      "text/plain": [
       "0    3\n",
       "1    3\n",
       "dtype: int64"
      ]
     },
     "execution_count": 108,
     "metadata": {},
     "output_type": "execute_result"
    }
   ],
   "source": [
    "data.count()"
   ]
  },
  {
   "cell_type": "code",
   "execution_count": 109,
   "id": "5b897937",
   "metadata": {},
   "outputs": [
    {
     "data": {
      "text/plain": [
       "0    0.929501\n",
       "1    0.850462\n",
       "dtype: float64"
      ]
     },
     "execution_count": 109,
     "metadata": {},
     "output_type": "execute_result"
    }
   ],
   "source": [
    "data.max()"
   ]
  },
  {
   "cell_type": "code",
   "execution_count": 111,
   "id": "8de362f9",
   "metadata": {},
   "outputs": [
    {
     "data": {
      "text/plain": [
       "0    0.582886\n",
       "1    0.317953\n",
       "dtype: float64"
      ]
     },
     "execution_count": 111,
     "metadata": {},
     "output_type": "execute_result"
    }
   ],
   "source": [
    "data.min()"
   ]
  },
  {
   "cell_type": "code",
   "execution_count": 112,
   "id": "db109573",
   "metadata": {},
   "outputs": [
    {
     "data": {
      "text/plain": [
       "0    0.194070\n",
       "1    0.287468\n",
       "dtype: float64"
      ]
     },
     "execution_count": 112,
     "metadata": {},
     "output_type": "execute_result"
    }
   ],
   "source": [
    "data.std()"
   ]
  },
  {
   "cell_type": "code",
   "execution_count": 114,
   "id": "cf32dbfc",
   "metadata": {},
   "outputs": [
    {
     "data": {
      "text/plain": [
       "0    0.604922\n",
       "1    0.771927\n",
       "dtype: float64"
      ]
     },
     "execution_count": 114,
     "metadata": {},
     "output_type": "execute_result"
    }
   ],
   "source": [
    "data.median()"
   ]
  },
  {
   "cell_type": "code",
   "execution_count": null,
   "id": "0e5c7a3e",
   "metadata": {},
   "outputs": [],
   "source": []
  }
 ],
 "metadata": {
  "kernelspec": {
   "display_name": "Python 3 (ipykernel)",
   "language": "python",
   "name": "python3"
  },
  "language_info": {
   "codemirror_mode": {
    "name": "ipython",
    "version": 3
   },
   "file_extension": ".py",
   "mimetype": "text/x-python",
   "name": "python",
   "nbconvert_exporter": "python",
   "pygments_lexer": "ipython3",
   "version": "3.8.5"
  }
 },
 "nbformat": 4,
 "nbformat_minor": 5
}
