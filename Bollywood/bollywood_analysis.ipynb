{
 "cells": [
  {
   "cell_type": "code",
   "execution_count": 2,
   "id": "ac5d0f5f",
   "metadata": {},
   "outputs": [],
   "source": [
    "import pandas as pd\n",
    "import matplotlib.pyplot as plt\n",
    "import numpy as np\n",
    "import seaborn as sbn"
   ]
  },
  {
   "cell_type": "markdown",
   "id": "bc732d5d",
   "metadata": {},
   "source": [
    "## USING THE SEABORN FOR DATA VISUALIZATION IN BOLLYWOOD DATASETS"
   ]
  },
  {
   "cell_type": "code",
   "execution_count": 3,
   "id": "a02be3d9",
   "metadata": {},
   "outputs": [],
   "source": [
    "dataset=pd.read_csv('bollywood.csv')"
   ]
  },
  {
   "cell_type": "code",
   "execution_count": 6,
   "id": "55133a09",
   "metadata": {},
   "outputs": [],
   "source": [
    "df=pd.DataFrame(dataset)"
   ]
  },
  {
   "cell_type": "code",
   "execution_count": 8,
   "id": "b999ae36",
   "metadata": {},
   "outputs": [
    {
     "data": {
      "text/html": [
       "<div>\n",
       "<style scoped>\n",
       "    .dataframe tbody tr th:only-of-type {\n",
       "        vertical-align: middle;\n",
       "    }\n",
       "\n",
       "    .dataframe tbody tr th {\n",
       "        vertical-align: top;\n",
       "    }\n",
       "\n",
       "    .dataframe thead th {\n",
       "        text-align: right;\n",
       "    }\n",
       "</style>\n",
       "<table border=\"1\" class=\"dataframe\">\n",
       "  <thead>\n",
       "    <tr style=\"text-align: right;\">\n",
       "      <th></th>\n",
       "      <th>Movie</th>\n",
       "      <th>Lead</th>\n",
       "      <th>Rdate</th>\n",
       "      <th>Ocollection</th>\n",
       "      <th>Wcollection</th>\n",
       "      <th>Fwcollection</th>\n",
       "      <th>Tcollection</th>\n",
       "      <th>Verdict</th>\n",
       "    </tr>\n",
       "  </thead>\n",
       "  <tbody>\n",
       "    <tr>\n",
       "      <th>0</th>\n",
       "      <td>Dangal</td>\n",
       "      <td>Aamir</td>\n",
       "      <td>23-Dec-16</td>\n",
       "      <td>29.78</td>\n",
       "      <td>106.95</td>\n",
       "      <td>197.53</td>\n",
       "      <td>386.68</td>\n",
       "      <td>Super Hit</td>\n",
       "    </tr>\n",
       "    <tr>\n",
       "      <th>1</th>\n",
       "      <td>Wajah Tum Ho</td>\n",
       "      <td>Sharman</td>\n",
       "      <td>16-Dec-16</td>\n",
       "      <td>2.86</td>\n",
       "      <td>7.79</td>\n",
       "      <td>10.29</td>\n",
       "      <td>10.29</td>\n",
       "      <td>Flop</td>\n",
       "    </tr>\n",
       "    <tr>\n",
       "      <th>2</th>\n",
       "      <td>Befikre</td>\n",
       "      <td>Ranveer</td>\n",
       "      <td>09-Dec-16</td>\n",
       "      <td>10.36</td>\n",
       "      <td>34.36</td>\n",
       "      <td>48.75</td>\n",
       "      <td>59.30</td>\n",
       "      <td>Average</td>\n",
       "    </tr>\n",
       "    <tr>\n",
       "      <th>3</th>\n",
       "      <td>Kahaani 2</td>\n",
       "      <td>Vidya</td>\n",
       "      <td>02-Dec-16</td>\n",
       "      <td>4.25</td>\n",
       "      <td>16.97</td>\n",
       "      <td>24.26</td>\n",
       "      <td>30.56</td>\n",
       "      <td>Average</td>\n",
       "    </tr>\n",
       "    <tr>\n",
       "      <th>4</th>\n",
       "      <td>Dear Zindagi</td>\n",
       "      <td>Shahrukh</td>\n",
       "      <td>25-Nov-16</td>\n",
       "      <td>8.75</td>\n",
       "      <td>32.50</td>\n",
       "      <td>47.00</td>\n",
       "      <td>64.44</td>\n",
       "      <td>Hit</td>\n",
       "    </tr>\n",
       "  </tbody>\n",
       "</table>\n",
       "</div>"
      ],
      "text/plain": [
       "          Movie      Lead      Rdate  Ocollection  Wcollection  Fwcollection  \\\n",
       "0        Dangal     Aamir  23-Dec-16        29.78       106.95        197.53   \n",
       "1  Wajah Tum Ho   Sharman  16-Dec-16         2.86         7.79         10.29   \n",
       "2       Befikre   Ranveer  09-Dec-16        10.36        34.36         48.75   \n",
       "3     Kahaani 2     Vidya  02-Dec-16         4.25        16.97         24.26   \n",
       "4  Dear Zindagi  Shahrukh  25-Nov-16         8.75        32.50         47.00   \n",
       "\n",
       "   Tcollection    Verdict  \n",
       "0       386.68  Super Hit  \n",
       "1        10.29       Flop  \n",
       "2        59.30    Average  \n",
       "3        30.56    Average  \n",
       "4        64.44        Hit  "
      ]
     },
     "execution_count": 8,
     "metadata": {},
     "output_type": "execute_result"
    }
   ],
   "source": [
    "df.head()"
   ]
  },
  {
   "cell_type": "code",
   "execution_count": 9,
   "id": "22dfb3cf",
   "metadata": {},
   "outputs": [
    {
     "data": {
      "text/plain": [
       "Index(['Movie', 'Lead', 'Rdate', 'Ocollection', 'Wcollection', 'Fwcollection',\n",
       "       'Tcollection', 'Verdict'],\n",
       "      dtype='object')"
      ]
     },
     "execution_count": 9,
     "metadata": {},
     "output_type": "execute_result"
    }
   ],
   "source": [
    "df.columns"
   ]
  },
  {
   "cell_type": "code",
   "execution_count": 11,
   "id": "46e71eee",
   "metadata": {},
   "outputs": [
    {
     "data": {
      "text/plain": [
       "RangeIndex(start=0, stop=61, step=1)"
      ]
     },
     "execution_count": 11,
     "metadata": {},
     "output_type": "execute_result"
    }
   ],
   "source": [
    "df.index"
   ]
  },
  {
   "cell_type": "code",
   "execution_count": 12,
   "id": "2931d62a",
   "metadata": {},
   "outputs": [
    {
     "name": "stdout",
     "output_type": "stream",
     "text": [
      "<class 'pandas.core.frame.DataFrame'>\n",
      "RangeIndex: 61 entries, 0 to 60\n",
      "Data columns (total 8 columns):\n",
      " #   Column        Non-Null Count  Dtype  \n",
      "---  ------        --------------  -----  \n",
      " 0   Movie         61 non-null     object \n",
      " 1   Lead          61 non-null     object \n",
      " 2   Rdate         61 non-null     object \n",
      " 3   Ocollection   61 non-null     float64\n",
      " 4   Wcollection   61 non-null     float64\n",
      " 5   Fwcollection  58 non-null     float64\n",
      " 6   Tcollection   61 non-null     float64\n",
      " 7   Verdict       61 non-null     object \n",
      "dtypes: float64(4), object(4)\n",
      "memory usage: 2.9+ KB\n"
     ]
    }
   ],
   "source": [
    "df.info()"
   ]
  },
  {
   "cell_type": "code",
   "execution_count": 14,
   "id": "e4977e15",
   "metadata": {},
   "outputs": [
    {
     "data": {
      "text/html": [
       "<div>\n",
       "<style scoped>\n",
       "    .dataframe tbody tr th:only-of-type {\n",
       "        vertical-align: middle;\n",
       "    }\n",
       "\n",
       "    .dataframe tbody tr th {\n",
       "        vertical-align: top;\n",
       "    }\n",
       "\n",
       "    .dataframe thead th {\n",
       "        text-align: right;\n",
       "    }\n",
       "</style>\n",
       "<table border=\"1\" class=\"dataframe\">\n",
       "  <thead>\n",
       "    <tr style=\"text-align: right;\">\n",
       "      <th></th>\n",
       "      <th>Ocollection</th>\n",
       "      <th>Wcollection</th>\n",
       "      <th>Fwcollection</th>\n",
       "      <th>Tcollection</th>\n",
       "    </tr>\n",
       "  </thead>\n",
       "  <tbody>\n",
       "    <tr>\n",
       "      <th>count</th>\n",
       "      <td>61.000000</td>\n",
       "      <td>61.000000</td>\n",
       "      <td>58.000000</td>\n",
       "      <td>61.000000</td>\n",
       "    </tr>\n",
       "    <tr>\n",
       "      <th>mean</th>\n",
       "      <td>6.312951</td>\n",
       "      <td>22.299180</td>\n",
       "      <td>36.059828</td>\n",
       "      <td>46.634754</td>\n",
       "    </tr>\n",
       "    <tr>\n",
       "      <th>std</th>\n",
       "      <td>6.917201</td>\n",
       "      <td>27.881409</td>\n",
       "      <td>41.832570</td>\n",
       "      <td>65.829829</td>\n",
       "    </tr>\n",
       "    <tr>\n",
       "      <th>min</th>\n",
       "      <td>0.120000</td>\n",
       "      <td>0.620000</td>\n",
       "      <td>2.050000</td>\n",
       "      <td>0.620000</td>\n",
       "    </tr>\n",
       "    <tr>\n",
       "      <th>25%</th>\n",
       "      <td>1.790000</td>\n",
       "      <td>6.460000</td>\n",
       "      <td>10.562500</td>\n",
       "      <td>9.110000</td>\n",
       "    </tr>\n",
       "    <tr>\n",
       "      <th>50%</th>\n",
       "      <td>4.700000</td>\n",
       "      <td>16.970000</td>\n",
       "      <td>26.105000</td>\n",
       "      <td>27.740000</td>\n",
       "    </tr>\n",
       "    <tr>\n",
       "      <th>75%</th>\n",
       "      <td>8.150000</td>\n",
       "      <td>28.560000</td>\n",
       "      <td>46.982500</td>\n",
       "      <td>60.270000</td>\n",
       "    </tr>\n",
       "    <tr>\n",
       "      <th>max</th>\n",
       "      <td>36.540000</td>\n",
       "      <td>180.360000</td>\n",
       "      <td>229.160000</td>\n",
       "      <td>386.680000</td>\n",
       "    </tr>\n",
       "  </tbody>\n",
       "</table>\n",
       "</div>"
      ],
      "text/plain": [
       "       Ocollection  Wcollection  Fwcollection  Tcollection\n",
       "count    61.000000    61.000000     58.000000    61.000000\n",
       "mean      6.312951    22.299180     36.059828    46.634754\n",
       "std       6.917201    27.881409     41.832570    65.829829\n",
       "min       0.120000     0.620000      2.050000     0.620000\n",
       "25%       1.790000     6.460000     10.562500     9.110000\n",
       "50%       4.700000    16.970000     26.105000    27.740000\n",
       "75%       8.150000    28.560000     46.982500    60.270000\n",
       "max      36.540000   180.360000    229.160000   386.680000"
      ]
     },
     "execution_count": 14,
     "metadata": {},
     "output_type": "execute_result"
    }
   ],
   "source": [
    "df.describe()"
   ]
  },
  {
   "cell_type": "code",
   "execution_count": 16,
   "id": "eeae4346",
   "metadata": {},
   "outputs": [
    {
     "data": {
      "text/plain": [
       "pandas.core.frame.DataFrame"
      ]
     },
     "execution_count": 16,
     "metadata": {},
     "output_type": "execute_result"
    }
   ],
   "source": [
    "type(df)"
   ]
  },
  {
   "cell_type": "markdown",
   "id": "97d56b4f",
   "metadata": {},
   "source": [
    "#  finding no of films by each actor"
   ]
  },
  {
   "cell_type": "code",
   "execution_count": 26,
   "id": "bea8ea6e",
   "metadata": {},
   "outputs": [],
   "source": [
    "actor=df[\"Lead\"].value_counts()"
   ]
  },
  {
   "cell_type": "code",
   "execution_count": 27,
   "id": "75d7bf9d",
   "metadata": {},
   "outputs": [
    {
     "data": {
      "text/plain": [
       "<AxesSubplot:xlabel='Lead', ylabel='Count'>"
      ]
     },
     "execution_count": 27,
     "metadata": {},
     "output_type": "execute_result"
    },
    {
     "data": {
      "image/png": "[encoded data removed]",
      "text/plain": [
       "<Figure size 432x288 with 1 Axes>"
      ]
     },
     "metadata": {
      "needs_background": "light"
     },
     "output_type": "display_data"
    }
   ],
   "source": [
    "sbn.histplot(actor)"
   ]
  },
  {
   "cell_type": "code",
   "execution_count": 23,
   "id": "4a20a35b",
   "metadata": {},
   "outputs": [
    {
     "data": {
      "text/plain": [
       "<AxesSubplot:xlabel='Lead', ylabel='Count'>"
      ]
     },
     "execution_count": 23,
     "metadata": {},
     "output_type": "execute_result"
    },
    {
     "data": {
      "image/png": "[encoded data removed]",
      "text/plain": [
       "<Figure size 432x288 with 1 Axes>"
      ]
     },
     "metadata": {
      "needs_background": "light"
     },
     "output_type": "display_data"
    }
   ],
   "source": [
    "sbn.histplot(df['Lead'])"
   ]
  },
  {
   "cell_type": "markdown",
   "id": "a9d902b2",
   "metadata": {},
   "source": [
    "### find out number of super hit ,hit and flop films using pie chart"
   ]
  },
  {
   "cell_type": "code",
   "execution_count": 28,
   "id": "f939b8b1",
   "metadata": {},
   "outputs": [],
   "source": [
    "rate=df['Verdict'].value_counts()"
   ]
  },
  {
   "cell_type": "code",
   "execution_count": 55,
   "id": "0c5d6344",
   "metadata": {},
   "outputs": [
    {
     "data": {
      "text/plain": [
       "Flop         30\n",
       "Average      17\n",
       "Super Hit     7\n",
       "Hit           7\n",
       "Name: Verdict, dtype: int64"
      ]
     },
     "execution_count": 55,
     "metadata": {},
     "output_type": "execute_result"
    }
   ],
   "source": [
    "rate"
   ]
  },
  {
   "cell_type": "code",
   "execution_count": 53,
   "id": "f6a13f26",
   "metadata": {},
   "outputs": [
    {
     "data": {
      "image/png": "[encoded data removed]",
      "text/plain": [
       "<Figure size 432x288 with 1 Axes>"
      ]
     },
     "metadata": {},
     "output_type": "display_data"
    }
   ],
   "source": [
    "plt.pie(rate,labels=rate,autopct='%.0f%%')\n",
    "plt.show()"
   ]
  },
  {
   "cell_type": "markdown",
   "id": "625c7d02",
   "metadata": {},
   "source": [
    "### visualize the collection of each movie using bar plot"
   ]
  },
  {
   "cell_type": "code",
   "execution_count": 60,
   "id": "ae68ba79",
   "metadata": {},
   "outputs": [
    {
     "data": {
      "text/plain": [
       "<AxesSubplot:xlabel='Movie', ylabel='Ocollection'>"
      ]
     },
     "execution_count": 60,
     "metadata": {},
     "output_type": "execute_result"
    },
    {
     "data": {
      "image/png": "[encoded data removed]",
      "text/plain": [
       "<Figure size 432x288 with 1 Axes>"
      ]
     },
     "metadata": {
      "needs_background": "light"
     },
     "output_type": "display_data"
    }
   ],
   "source": [
    "sbn.barplot(x=df['Movie'],y=df['Ocollection'])"
   ]
  },
  {
   "cell_type": "markdown",
   "id": "b4fa85b4",
   "metadata": {},
   "source": [
    "### using date field in pandas for total collection"
   ]
  },
  {
   "cell_type": "code",
   "execution_count": 64,
   "id": "86cc3d58",
   "metadata": {},
   "outputs": [],
   "source": [
    "dete=pd.to_datetime(df['Rdate'])"
   ]
  },
  {
   "cell_type": "code",
   "execution_count": 66,
   "id": "741ebc2c",
   "metadata": {},
   "outputs": [],
   "source": [
    "df.loc['Rdate']=dete"
   ]
  },
  {
   "cell_type": "code",
   "execution_count": 69,
   "id": "2c71d1c1",
   "metadata": {},
   "outputs": [
    {
     "data": {
      "text/html": [
       "<div>\n",
       "<style scoped>\n",
       "    .dataframe tbody tr th:only-of-type {\n",
       "        vertical-align: middle;\n",
       "    }\n",
       "\n",
       "    .dataframe tbody tr th {\n",
       "        vertical-align: top;\n",
       "    }\n",
       "\n",
       "    .dataframe thead th {\n",
       "        text-align: right;\n",
       "    }\n",
       "</style>\n",
       "<table border=\"1\" class=\"dataframe\">\n",
       "  <thead>\n",
       "    <tr style=\"text-align: right;\">\n",
       "      <th></th>\n",
       "      <th>Movie</th>\n",
       "      <th>Lead</th>\n",
       "      <th>Rdate</th>\n",
       "      <th>Ocollection</th>\n",
       "      <th>Wcollection</th>\n",
       "      <th>Fwcollection</th>\n",
       "      <th>Tcollection</th>\n",
       "      <th>Verdict</th>\n",
       "    </tr>\n",
       "  </thead>\n",
       "  <tbody>\n",
       "    <tr>\n",
       "      <th>0</th>\n",
       "      <td>Dangal</td>\n",
       "      <td>Aamir</td>\n",
       "      <td>23-Dec-16</td>\n",
       "      <td>29.78</td>\n",
       "      <td>106.95</td>\n",
       "      <td>197.53</td>\n",
       "      <td>386.68</td>\n",
       "      <td>Super Hit</td>\n",
       "    </tr>\n",
       "    <tr>\n",
       "      <th>1</th>\n",
       "      <td>Wajah Tum Ho</td>\n",
       "      <td>Sharman</td>\n",
       "      <td>16-Dec-16</td>\n",
       "      <td>2.86</td>\n",
       "      <td>7.79</td>\n",
       "      <td>10.29</td>\n",
       "      <td>10.29</td>\n",
       "      <td>Flop</td>\n",
       "    </tr>\n",
       "    <tr>\n",
       "      <th>2</th>\n",
       "      <td>Befikre</td>\n",
       "      <td>Ranveer</td>\n",
       "      <td>09-Dec-16</td>\n",
       "      <td>10.36</td>\n",
       "      <td>34.36</td>\n",
       "      <td>48.75</td>\n",
       "      <td>59.3</td>\n",
       "      <td>Average</td>\n",
       "    </tr>\n",
       "    <tr>\n",
       "      <th>3</th>\n",
       "      <td>Kahaani 2</td>\n",
       "      <td>Vidya</td>\n",
       "      <td>02-Dec-16</td>\n",
       "      <td>4.25</td>\n",
       "      <td>16.97</td>\n",
       "      <td>24.26</td>\n",
       "      <td>30.56</td>\n",
       "      <td>Average</td>\n",
       "    </tr>\n",
       "    <tr>\n",
       "      <th>4</th>\n",
       "      <td>Dear Zindagi</td>\n",
       "      <td>Shahrukh</td>\n",
       "      <td>25-Nov-16</td>\n",
       "      <td>8.75</td>\n",
       "      <td>32.5</td>\n",
       "      <td>47.0</td>\n",
       "      <td>64.44</td>\n",
       "      <td>Hit</td>\n",
       "    </tr>\n",
       "    <tr>\n",
       "      <th>...</th>\n",
       "      <td>...</td>\n",
       "      <td>...</td>\n",
       "      <td>...</td>\n",
       "      <td>...</td>\n",
       "      <td>...</td>\n",
       "      <td>...</td>\n",
       "      <td>...</td>\n",
       "      <td>...</td>\n",
       "    </tr>\n",
       "    <tr>\n",
       "      <th>57</th>\n",
       "      <td>Mastizaade</td>\n",
       "      <td>Sunny</td>\n",
       "      <td>29-Jan-16</td>\n",
       "      <td>5.59</td>\n",
       "      <td>18.45</td>\n",
       "      <td>28.74</td>\n",
       "      <td>36.44</td>\n",
       "      <td>Average</td>\n",
       "    </tr>\n",
       "    <tr>\n",
       "      <th>58</th>\n",
       "      <td>Airlift</td>\n",
       "      <td>Akshay</td>\n",
       "      <td>22-Jan-16</td>\n",
       "      <td>12.35</td>\n",
       "      <td>44.3</td>\n",
       "      <td>83.5</td>\n",
       "      <td>128.1</td>\n",
       "      <td>Super Hit</td>\n",
       "    </tr>\n",
       "    <tr>\n",
       "      <th>59</th>\n",
       "      <td>Kyaa Kool Hain Hum 3</td>\n",
       "      <td>Tusshar</td>\n",
       "      <td>22-Jan-16</td>\n",
       "      <td>8.15</td>\n",
       "      <td>20.15</td>\n",
       "      <td>29.65</td>\n",
       "      <td>30.25</td>\n",
       "      <td>Average</td>\n",
       "    </tr>\n",
       "    <tr>\n",
       "      <th>60</th>\n",
       "      <td>Wazir</td>\n",
       "      <td>Amitabh</td>\n",
       "      <td>08-Jan-16</td>\n",
       "      <td>5.61</td>\n",
       "      <td>21.01</td>\n",
       "      <td>30.05</td>\n",
       "      <td>41.02</td>\n",
       "      <td>Average</td>\n",
       "    </tr>\n",
       "    <tr>\n",
       "      <th>Rdate</th>\n",
       "      <td>NaN</td>\n",
       "      <td>NaN</td>\n",
       "      <td>NaN</td>\n",
       "      <td>NaT</td>\n",
       "      <td>NaT</td>\n",
       "      <td>NaT</td>\n",
       "      <td>NaT</td>\n",
       "      <td>NaN</td>\n",
       "    </tr>\n",
       "  </tbody>\n",
       "</table>\n",
       "<p>62 rows × 8 columns</p>\n",
       "</div>"
      ],
      "text/plain": [
       "                      Movie      Lead      Rdate Ocollection Wcollection  \\\n",
       "0                    Dangal     Aamir  23-Dec-16       29.78      106.95   \n",
       "1              Wajah Tum Ho   Sharman  16-Dec-16        2.86        7.79   \n",
       "2                   Befikre   Ranveer  09-Dec-16       10.36       34.36   \n",
       "3                 Kahaani 2     Vidya  02-Dec-16        4.25       16.97   \n",
       "4              Dear Zindagi  Shahrukh  25-Nov-16        8.75        32.5   \n",
       "...                     ...       ...        ...         ...         ...   \n",
       "57               Mastizaade     Sunny  29-Jan-16        5.59       18.45   \n",
       "58                  Airlift    Akshay  22-Jan-16       12.35        44.3   \n",
       "59     Kyaa Kool Hain Hum 3   Tusshar  22-Jan-16        8.15       20.15   \n",
       "60                    Wazir   Amitabh  08-Jan-16        5.61       21.01   \n",
       "Rdate                   NaN       NaN        NaN         NaT         NaT   \n",
       "\n",
       "      Fwcollection Tcollection    Verdict  \n",
       "0           197.53      386.68  Super Hit  \n",
       "1            10.29       10.29       Flop  \n",
       "2            48.75        59.3    Average  \n",
       "3            24.26       30.56    Average  \n",
       "4             47.0       64.44        Hit  \n",
       "...            ...         ...        ...  \n",
       "57           28.74       36.44    Average  \n",
       "58            83.5       128.1  Super Hit  \n",
       "59           29.65       30.25    Average  \n",
       "60           30.05       41.02    Average  \n",
       "Rdate          NaT         NaT        NaN  \n",
       "\n",
       "[62 rows x 8 columns]"
      ]
     },
     "execution_count": 69,
     "metadata": {},
     "output_type": "execute_result"
    }
   ],
   "source": []
  },
  {
   "cell_type": "code",
   "execution_count": null,
   "id": "79e0526d",
   "metadata": {},
   "outputs": [],
   "source": []
  }
 ],
 "metadata": {
  "kernelspec": {
   "display_name": "Python 3 (ipykernel)",
   "language": "python",
   "name": "python3"
  },
  "language_info": {
   "codemirror_mode": {
    "name": "ipython",
    "version": 3
   },
   "file_extension": ".py",
   "mimetype": "text/x-python",
   "name": "python",
   "nbconvert_exporter": "python",
   "pygments_lexer": "ipython3",
   "version": "3.8.5"
  }
 },
 "nbformat": 4,
 "nbformat_minor": 5
}
